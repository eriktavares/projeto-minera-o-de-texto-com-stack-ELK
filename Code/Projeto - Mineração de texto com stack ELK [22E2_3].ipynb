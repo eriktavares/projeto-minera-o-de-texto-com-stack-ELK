{
 "cells": [
  {
   "cell_type": "markdown",
   "id": "7bf4e4e7",
   "metadata": {},
   "source": [
    "#  <span style=\"color:purple\">Projeto - Mineração de texto com stack ELK [22E2_3]</span>"
   ]
  },
  {
   "cell_type": "markdown",
   "id": "796ef26b",
   "metadata": {},
   "source": [
    "**Erik Tavares dos Anjos** <br />\n",
    "**Date Updated: 23/06/2022** <br />\n",
    "**GIT: https://github.com/eriktavares/projeto_minera-o_texto_elasticksearch**"
   ]
  },
  {
   "cell_type": "markdown",
   "id": "c5fa91ee",
   "metadata": {},
   "source": [
    "##  <span style=\"color:purple\">1. Cenário</span>"
   ]
  },
  {
   "cell_type": "markdown",
   "id": "559997e3",
   "metadata": {},
   "source": [
    "O dataset abaixo está disponível no site kaggle pela URL abaixo.\n",
    "\n",
    "**News Category Dataset </br>\n",
    "Identify the type of news based on headlines and short descriptions </br>\n",
    "https://www.kaggle.com/datasets/rmisra/news-category-dataset.** </br>\n",
    "\n",
    "Context </br>\n",
    "This dataset contains around 200k news headlines from the year 2012 to 2018 obtained from HuffPost. The model trained on this dataset could be used to identify tags for untracked news articles or to identify the type of language used in different news articles."
   ]
  },
  {
   "cell_type": "markdown",
   "id": "57e5bc5c",
   "metadata": {},
   "source": [
    "### 1.1 - Leitura do Dataset"
   ]
  },
  {
   "cell_type": "markdown",
   "id": "30e2a7af",
   "metadata": {},
   "source": [
    "O dataset tras 6 colunas 'category', 'headline', 'authors', 'link', 'short_description', 'date'.\n",
    "\n",
    "**category**: Categória em que a notícia é classificada. </br>\n",
    "**headline**: Título da Notícia. </br>\n",
    "**authors**: Autores. </br>\n",
    "**link**: Link para o site. </br>\n",
    "**short_description**: Descrição curta, ou um resumo da notícia.</br>\n",
    "**date**: Data da publicação. </br>"
   ]
  },
  {
   "cell_type": "code",
   "execution_count": 156,
   "id": "410168d2",
   "metadata": {},
   "outputs": [
    {
     "data": {
      "text/html": [
       "<div>\n",
       "<style scoped>\n",
       "    .dataframe tbody tr th:only-of-type {\n",
       "        vertical-align: middle;\n",
       "    }\n",
       "\n",
       "    .dataframe tbody tr th {\n",
       "        vertical-align: top;\n",
       "    }\n",
       "\n",
       "    .dataframe thead th {\n",
       "        text-align: right;\n",
       "    }\n",
       "</style>\n",
       "<table border=\"1\" class=\"dataframe\">\n",
       "  <thead>\n",
       "    <tr style=\"text-align: right;\">\n",
       "      <th></th>\n",
       "      <th>0</th>\n",
       "    </tr>\n",
       "  </thead>\n",
       "  <tbody>\n",
       "    <tr>\n",
       "      <th>category</th>\n",
       "      <td>CRIME</td>\n",
       "    </tr>\n",
       "    <tr>\n",
       "      <th>headline</th>\n",
       "      <td>There Were 2 Mass Shootings In Texas Last Week...</td>\n",
       "    </tr>\n",
       "    <tr>\n",
       "      <th>authors</th>\n",
       "      <td>Melissa Jeltsen</td>\n",
       "    </tr>\n",
       "    <tr>\n",
       "      <th>link</th>\n",
       "      <td>https://www.huffingtonpost.com/entry/texas-ama...</td>\n",
       "    </tr>\n",
       "    <tr>\n",
       "      <th>short_description</th>\n",
       "      <td>She left her husband. He killed their children...</td>\n",
       "    </tr>\n",
       "    <tr>\n",
       "      <th>date</th>\n",
       "      <td>2018-05-26 00:00:00</td>\n",
       "    </tr>\n",
       "  </tbody>\n",
       "</table>\n",
       "</div>"
      ],
      "text/plain": [
       "                                                                   0\n",
       "category                                                       CRIME\n",
       "headline           There Were 2 Mass Shootings In Texas Last Week...\n",
       "authors                                              Melissa Jeltsen\n",
       "link               https://www.huffingtonpost.com/entry/texas-ama...\n",
       "short_description  She left her husband. He killed their children...\n",
       "date                                             2018-05-26 00:00:00"
      ]
     },
     "execution_count": 156,
     "metadata": {},
     "output_type": "execute_result"
    }
   ],
   "source": [
    "import pandas as pd\n",
    "df_data = pd.read_json('../Data/archive5zip/News_Category_Dataset_v2.json', orient='records', lines=True)\n",
    "df_data.head(1).T"
   ]
  },
  {
   "cell_type": "markdown",
   "id": "1696171a",
   "metadata": {},
   "source": [
    "### 1.1.1.Categoria"
   ]
  },
  {
   "cell_type": "markdown",
   "id": "95a5455e",
   "metadata": {},
   "source": [
    "São diversas categórias, como Politica, Bem estar, Enterterimento, Viagens, Stylo e Beleza, e diversas outras. O tipo de dado é um \n",
    "keyword, uma palavra chave."
   ]
  },
  {
   "cell_type": "code",
   "execution_count": 157,
   "id": "8904e7a1",
   "metadata": {},
   "outputs": [
    {
     "data": {
      "text/plain": [
       "POLITICS          32739\n",
       "WELLNESS          17827\n",
       "ENTERTAINMENT     16058\n",
       "TRAVEL             9887\n",
       "STYLE & BEAUTY     9649\n",
       "PARENTING          8677\n",
       "HEALTHY LIVING     6694\n",
       "QUEER VOICES       6314\n",
       "FOOD & DRINK       6226\n",
       "BUSINESS           5937\n",
       "COMEDY             5175\n",
       "SPORTS             4884\n",
       "BLACK VOICES       4528\n",
       "HOME & LIVING      4195\n",
       "PARENTS            3955\n",
       "THE WORLDPOST      3664\n",
       "WEDDINGS           3651\n",
       "WOMEN              3490\n",
       "IMPACT             3459\n",
       "DIVORCE            3426\n",
       "CRIME              3405\n",
       "MEDIA              2815\n",
       "WEIRD NEWS         2670\n",
       "GREEN              2622\n",
       "WORLDPOST          2579\n",
       "RELIGION           2556\n",
       "STYLE              2254\n",
       "SCIENCE            2178\n",
       "WORLD NEWS         2177\n",
       "TASTE              2096\n",
       "TECH               2082\n",
       "MONEY              1707\n",
       "ARTS               1509\n",
       "FIFTY              1401\n",
       "GOOD NEWS          1398\n",
       "ARTS & CULTURE     1339\n",
       "ENVIRONMENT        1323\n",
       "COLLEGE            1144\n",
       "LATINO VOICES      1129\n",
       "CULTURE & ARTS     1030\n",
       "EDUCATION          1004\n",
       "Name: category, dtype: int64"
      ]
     },
     "execution_count": 157,
     "metadata": {},
     "output_type": "execute_result"
    }
   ],
   "source": [
    "df_data['category'].value_counts()"
   ]
  },
  {
   "cell_type": "markdown",
   "id": "9eec90e0",
   "metadata": {},
   "source": [
    "### 1.1.2 Demais Colunas"
   ]
  },
  {
   "cell_type": "markdown",
   "id": "cf167381",
   "metadata": {},
   "source": [
    "O **headline** é o título da notícia, abaixo impresso em negrito, e o **short_description** é\n",
    "a descrição cruta, ambos são textos curtos e que foram um resumo do que será o assunto da notícia. \n",
    "Os campos Author, tras o nome do autor da noticia e tem o tipo keywork. A data de publicação está no formato data e o link no formato texto\n",
    "\n",
    "Abaixo estão alguns exemplos\n",
    "de notícias (5 primeiras do dataset)"
   ]
  },
  {
   "cell_type": "code",
   "execution_count": 3,
   "id": "66f4adc6",
   "metadata": {},
   "outputs": [
    {
     "name": "stdout",
     "output_type": "stream",
     "text": [
      "----------------------------------------------------------------\n",
      "Notícia 0:\n",
      "\u001b[1mThere Were 2 Mass Shootings In Texas Last Week, But Only 1 On TV\n",
      "\u001b[0mShe left her husband. He killed their children. Just another day in America.\n",
      "Melissa Jeltsen 2018-05-26 00:00:00\n",
      "https://www.huffingtonpost.com/entry/texas-amanda-painter-mass-shooting_us_5b081ab4e4b0802d69caad89 \n",
      "\n",
      "----------------------------------------------------------------\n",
      "Notícia 1:\n",
      "\u001b[1mWill Smith Joins Diplo And Nicky Jam For The 2018 World Cup's Official Song\n",
      "\u001b[0mOf course it has a song.\n",
      "Andy McDonald 2018-05-26 00:00:00\n",
      "https://www.huffingtonpost.com/entry/will-smith-joins-diplo-and-nicky-jam-for-the-official-2018-world-cup-song_us_5b09726fe4b0fdb2aa541201 \n",
      "\n",
      "----------------------------------------------------------------\n",
      "Notícia 2:\n",
      "\u001b[1mHugh Grant Marries For The First Time At Age 57\n",
      "\u001b[0mThe actor and his longtime girlfriend Anna Eberstein tied the knot in a civil ceremony.\n",
      "Ron Dicker 2018-05-26 00:00:00\n",
      "https://www.huffingtonpost.com/entry/hugh-grant-marries_us_5b09212ce4b0568a880b9a8c \n",
      "\n",
      "----------------------------------------------------------------\n",
      "Notícia 3:\n",
      "\u001b[1mJim Carrey Blasts 'Castrato' Adam Schiff And Democrats In New Artwork\n",
      "\u001b[0mThe actor gives Dems an ass-kicking for not fighting hard enough against Donald Trump.\n",
      "Ron Dicker 2018-05-26 00:00:00\n",
      "https://www.huffingtonpost.com/entry/jim-carrey-adam-schiff-democrats_us_5b0950e8e4b0fdb2aa53e675 \n",
      "\n",
      "----------------------------------------------------------------\n",
      "Notícia 4:\n",
      "\u001b[1mJulianna Margulies Uses Donald Trump Poop Bags To Pick Up After Her Dog\n",
      "\u001b[0mThe \"Dietland\" actress said using the bags is a \"really cathartic, therapeutic moment.\"\n",
      "Ron Dicker 2018-05-26 00:00:00\n",
      "https://www.huffingtonpost.com/entry/julianna-margulies-trump-poop-bag_us_5b093ec2e4b0fdb2aa53df70 \n",
      "\n"
     ]
    }
   ],
   "source": [
    "BOLD = '\\033[1m'\n",
    "NORMAL = '\\033[0m'\n",
    "\n",
    "for i in range(0,5):\n",
    "    print(\"----------------------------------------------------------------\")\n",
    "    print(\"Notícia {}:\".format(i))\n",
    "    print(BOLD+df_data['headline'].iloc[i]+'\\n'+NORMAL+df_data['short_description'].iloc[i])\n",
    "    print(df_data['authors'].iloc[i], df_data['date'].iloc[i])\n",
    "    print(df_data['link'].iloc[i], '\\n')"
   ]
  },
  {
   "cell_type": "markdown",
   "id": "8bb00dff",
   "metadata": {},
   "source": [
    "##  <span style=\"color:purple\">2. Pré Processamento</span>"
   ]
  },
  {
   "cell_type": "markdown",
   "id": "18b4c318",
   "metadata": {},
   "source": [
    "Esses dados serão migrados para o banco de dados Elasticsearch 8.2.2. para isso será realizado a analise dos campos para posteriormente realizar a criação do mapeamento.\n",
    "\n",
    "**Elasticsearch** </br>\n",
    "o Elasticsearch é um mecanismo de busca e análise de dados distribuído, gratuito e aberto para todos os tipos de dados, incluindo textuais, numéricos, geoespaciais, estruturados e não estruturados. O Elasticsearch é desenvolvido sobre o Apache Lucene e foi lançado pela primeira vez em 2010 pela Elasticsearch N.V. (agora conhecida como Elastic). Conhecido por suas REST APIs simples, natureza distribuída, velocidade e escalabilidade, o Elasticsearch é o componente central do Elastic Stack, um conjunto de ferramentas gratuitas e abertas para ingestão, enriquecimento, armazenamento, análise e visualização de dados. Comumente chamado de ELK Stack (pelas iniciais de Elasticsearch, Logstash e Kibana), o Elastic Stack agora inclui uma rica coleção de agentes lightweight conhecidos como Beats para enviar dados ao Elasticsearch.[https://www.elastic.co/pt/what-is/elasticsearch]"
   ]
  },
  {
   "cell_type": "code",
   "execution_count": 5,
   "id": "53a7ab84",
   "metadata": {},
   "outputs": [
    {
     "name": "stdout",
     "output_type": "stream",
     "text": [
      "Digite sua senha: ········\n"
     ]
    },
    {
     "name": "stderr",
     "output_type": "stream",
     "text": [
      "C:\\ProgramData\\Anaconda3\\lib\\site-packages\\elasticsearch\\_sync\\client\\__init__.py:395: SecurityWarning: Connecting to 'https://localhost:9200' using TLS with verify_certs=False is insecure\n",
      "  _transport = transport_class(\n"
     ]
    },
    {
     "data": {
      "text/plain": [
       "{'name': 'DESKTOP-4SAUDI3',\n",
       " 'cluster_name': 'elasticsearch',\n",
       " 'cluster_uuid': 'HTrqKXa6SSyS9cJuvdjf4A',\n",
       " 'version': {'number': '8.2.2',\n",
       "  'build_flavor': 'default',\n",
       "  'build_type': 'zip',\n",
       "  'build_hash': '9876968ef3c745186b94fdabd4483e01499224ef',\n",
       "  'build_date': '2022-05-25T15:47:06.259735307Z',\n",
       "  'build_snapshot': False,\n",
       "  'lucene_version': '9.1.0',\n",
       "  'minimum_wire_compatibility_version': '7.17.0',\n",
       "  'minimum_index_compatibility_version': '7.0.0'},\n",
       " 'tagline': 'You Know, for Search'}"
      ]
     },
     "execution_count": 5,
     "metadata": {},
     "output_type": "execute_result"
    }
   ],
   "source": [
    "import elasticsearch\n",
    "import getpass\n",
    "import urllib3\n",
    "urllib3.disable_warnings()\n",
    "senha = getpass.getpass(\"Digite sua senha: \")\n",
    "\n",
    "ES_URL = 'https://localhost:9200'\n",
    "ES_USER = 'elastic'\n",
    "ES_PASS = senha\n",
    "\n",
    "client = elasticsearch.Elasticsearch(\n",
    "    ES_URL,\n",
    "    basic_auth=(ES_USER, ES_PASS),\n",
    "    verify_certs=False\n",
    ")\n",
    "dict(client.info())"
   ]
  },
  {
   "cell_type": "markdown",
   "id": "b232867f",
   "metadata": {},
   "source": [
    "### 2.1 Analizer"
   ]
  },
  {
   "cell_type": "markdown",
   "id": "514d87db",
   "metadata": {},
   "source": [
    "Text analysis enables Elasticsearch to perform full-text search, where the search returns all relevant results rather than just exact matches [https://www.elastic.co/guide/en/elasticsearch/reference/8.2/analysis-overview.html].\n",
    "\n",
    "Nesta sessão será realizado a implementação de um analizador para ser aplicado aos campos headline e short_description das noticias.\n",
    "\n",
    "Para iniciar, será feito o carregamento das stop words em ingles do nltk, essas stop words são palavras que não agregam para resultados de analises de texto.\n",
    "\n"
   ]
  },
  {
   "cell_type": "code",
   "execution_count": 6,
   "id": "d5235321",
   "metadata": {},
   "outputs": [
    {
     "name": "stdout",
     "output_type": "stream",
     "text": [
      "i , me , my , myself , we , our , ours , ourselves , you , you're , you've , you'll , you'd , your , yours , yourself , yourselves , he , him , his , himself , she , she's , her , hers , herself , it , it's , its , itself , they , them , their , theirs , themselves , what , which , who , whom , this , that , that'll , these , those , am , is , are , was , were , be , been , being , have , has , had , having , do , does , did , doing , a , an , the , and , but , if , or , because , as , until , while , of , at , by , for , with , about , against , between , into , through , during , before , after , above , below , to , from , up , down , in , out , on , off , over , under , again , further , then , once , here , there , when , where , why , how , all , any , both , each , few , more , most , other , some , such , no , nor , not , only , own , same , so , than , too , very , s , t , can , will , just , don , don't , should , should've , now , d , ll , m , o , re , ve , y , ain , aren , aren't , couldn , couldn't , didn , didn't , doesn , doesn't , hadn , hadn't , hasn , hasn't , haven , haven't , isn , isn't , ma , mightn , mightn't , mustn , mustn't , needn , needn't , shan , shan't , shouldn , shouldn't , wasn , wasn't , weren , weren't , won , won't , wouldn , wouldn't\n"
     ]
    }
   ],
   "source": [
    "import nltk\n",
    "stop_words_en=nltk.corpus.stopwords.words('english')\n",
    "print(' , '.join([x for x in stop_words_en]))"
   ]
  },
  {
   "cell_type": "markdown",
   "id": "090646b7",
   "metadata": {},
   "source": [
    "**Analizer**\n",
    "O analiser é o conjunto de char_filter, tokenizer e token filter, de forma simplificada.\n",
    "\n",
    "\n",
    "**Tokenizer**\n",
    "Standard tokenizeredit\n",
    "The standard tokenizer provides grammar based tokenization (based on the Unicode Text Segmentation algorithm, as specified in Unicode Standard Annex #29) and works well for most languages [https://www.elastic.co/guide/en/elasticsearch/reference/8.2/analysis-standard-tokenizer.html].\n",
    "\n",
    "De forma simplificada, os tokens são separados por espaço, não\n",
    "há remoção de número ou de apostrofe. Conforme, exemplo abaixo de um texto do dataset."
   ]
  },
  {
   "cell_type": "code",
   "execution_count": 7,
   "id": "d301f404",
   "metadata": {},
   "outputs": [
    {
     "name": "stdout",
     "output_type": "stream",
     "text": [
      "['Will', 'Smith', 'Joins', 'Diplo', 'And', 'Nicky', 'Jam', 'For', 'The', '2018', 'World', \"Cup's\", 'Official', 'Song']\n"
     ]
    }
   ],
   "source": [
    "analyzed = client.indices.analyze(\n",
    "        tokenizer=\"standard\",\n",
    "        text=\"Will Smith Joins Diplo And Nicky Jam For The 2018 World Cup's Official Song\"\n",
    ")\n",
    "print([x[\"token\"] for x in analyzed['tokens']])"
   ]
  },
  {
   "cell_type": "markdown",
   "id": "58e6d349",
   "metadata": {},
   "source": [
    "Para remorada dos números será utilizado Char filter.\n",
    "\n",
    "**Char filter**\n",
    "Os filtros de caracteres são usados ​​para pré-processar o fluxo de caracteres antes que ele seja passado para o tokenizador. No analisardor desenvolvido, possui um char_filter para remoção de números, como são textos de noticias, são é necessário que os números virem tokens.\n",
    "\n",
    "**Token filter**\n",
    "Os token filter ja modificam os tokens após o tokenizer. Para o analizador, será utilizado token filter \"lowercase\", \"asciifolding\", \"apostrophe\" e \"stop_custom\". O lowercase para passar as letras para minusculas dos tokens. O asciifolding remove acentos e caracteres especiais. O Apostrophe é para remoção de apostrophe dos tokens, como em [cup's] --> [cup]. Por ultimo, o custom stop words para utilização das stop words do nltk. "
   ]
  },
  {
   "cell_type": "code",
   "execution_count": 8,
   "id": "9bbb82e4",
   "metadata": {},
   "outputs": [
    {
     "data": {
      "text/plain": [
       "ObjectApiResponse({'acknowledged': True, 'shards_acknowledged': True, 'index': 'category_index'})"
      ]
     },
     "execution_count": 8,
     "metadata": {},
     "output_type": "execute_result"
    }
   ],
   "source": [
    "INDICE_NAME = 'category_index'\n",
    "\n",
    "\n",
    "analysis={\n",
    "          \"analyzer\": {\n",
    "            \"analizer_text\": { \n",
    "                  \"char_filter\": [\n",
    "                    \"replace_numbers\"\n",
    "                    ],\n",
    "                  \"tokenizer\": \"standard\",\n",
    "                  \"filter\": [\n",
    "                      \"lowercase\",\n",
    "                      \"asciifolding\",\n",
    "                      \"apostrophe\",\n",
    "                      \"stop_custom\",\n",
    "                  ]\n",
    "                }\n",
    "              },\n",
    "          \"char_filter\": {\n",
    "             \"replace_numbers\": {\n",
    "                    \"type\": \"pattern_replace\",\n",
    "                    \"pattern\": \"([0-9]+)\",\n",
    "                    \"replacement\": \"\"\n",
    "             },\n",
    "          },\n",
    "          \"filter\": {\n",
    "            \"english_stop\": { \n",
    "              \"type\": \"stop\",\n",
    "              \"stopwords\": \"_english_\"\n",
    "            },\n",
    "            \"stop_custom\": {\n",
    "                \"type\": \"stop\",\n",
    "                \"stopwords\": stop_words_en,\n",
    "        },\n",
    "    }\n",
    "}\n",
    "\n",
    "text_category_analizer = {   \n",
    "    \"settings\": {\n",
    "        \"analysis\": analysis\n",
    "      }\n",
    "    }\n",
    "    \n",
    "if client.indices.exists(index=INDICE_NAME):\n",
    "    client.indices.delete(index=INDICE_NAME)\n",
    "client.indices.create(index=INDICE_NAME, **text_category_analizer)\n",
    "\n"
   ]
  },
  {
   "cell_type": "markdown",
   "id": "0899e068",
   "metadata": {},
   "source": [
    "O resultado do analizador pode ser visto em alguns textos do dataset (5 primeiros), Linha em negrito com headline e embaixo,\n",
    "após uma lista de tokens após o analizer. Na linha normal, logo abaixo, o short description e uma lista com os tokens resultantes."
   ]
  },
  {
   "cell_type": "code",
   "execution_count": 9,
   "id": "f7a1b288",
   "metadata": {},
   "outputs": [
    {
     "name": "stdout",
     "output_type": "stream",
     "text": [
      "----------------------------------------------------------------\n",
      "Noticia 0\n",
      "\u001b[1mThere Were 2 Mass Shootings In Texas Last Week, But Only 1 On TV\n",
      "[ \u001b[1mmass , shootings , texas , last , week , tv ]\n",
      "\n",
      "\u001b[0mShe left her husband. He killed their children. Just another day in America.\n",
      "\u001b[0m[ left , husband , killed , children , another , day , america ]\n",
      "----------------------------------------------------------------\n",
      "Noticia 1\n",
      "\u001b[1mWill Smith Joins Diplo And Nicky Jam For The 2018 World Cup's Official Song\n",
      "[ \u001b[1msmith , joins , diplo , nicky , jam , world , cup , official , song ]\n",
      "\n",
      "\u001b[0mOf course it has a song.\n",
      "\u001b[0m[ course , song ]\n",
      "----------------------------------------------------------------\n",
      "Noticia 2\n",
      "\u001b[1mHugh Grant Marries For The First Time At Age 57\n",
      "[ \u001b[1mhugh , grant , marries , first , time , age ]\n",
      "\n",
      "\u001b[0mThe actor and his longtime girlfriend Anna Eberstein tied the knot in a civil ceremony.\n",
      "\u001b[0m[ actor , longtime , girlfriend , anna , eberstein , tied , knot , civil , ceremony ]\n",
      "----------------------------------------------------------------\n",
      "Noticia 3\n",
      "\u001b[1mJim Carrey Blasts 'Castrato' Adam Schiff And Democrats In New Artwork\n",
      "[ \u001b[1mjim , carrey , blasts , castrato , adam , schiff , democrats , new , artwork ]\n",
      "\n",
      "\u001b[0mThe actor gives Dems an ass-kicking for not fighting hard enough against Donald Trump.\n",
      "\u001b[0m[ actor , gives , dems , ass , kicking , fighting , hard , enough , donald , trump ]\n",
      "----------------------------------------------------------------\n",
      "Noticia 4\n",
      "\u001b[1mJulianna Margulies Uses Donald Trump Poop Bags To Pick Up After Her Dog\n",
      "[ \u001b[1mjulianna , margulies , uses , donald , trump , poop , bags , pick , dog ]\n",
      "\n",
      "\u001b[0mThe \"Dietland\" actress said using the bags is a \"really cathartic, therapeutic moment.\"\n",
      "\u001b[0m[ dietland , actress , said , using , bags , really , cathartic , therapeutic , moment ]\n"
     ]
    }
   ],
   "source": [
    "for i in range(0,5):\n",
    "    print(\"----------------------------------------------------------------\")\n",
    "    print(\"Noticia\",i)\n",
    "    resp_title = client.indices.analyze(\n",
    "        index=\"category_index\",\n",
    "        analyzer=\"analizer_text\",\n",
    "        text=df_data['headline'].iloc[i],\n",
    "    )\n",
    "    resp_desc = client.indices.analyze(\n",
    "        index=\"category_index\",\n",
    "        analyzer=\"analizer_text\",\n",
    "        text=df_data['short_description'].iloc[i],\n",
    "    )\n",
    "    print(BOLD+df_data['headline'].iloc[i])\n",
    "    print('[', BOLD+' , '.join([x[\"token\"] for x in resp_title['tokens']]),']\\n')\n",
    "    \n",
    "    print(NORMAL+df_data['short_description'].iloc[i])\n",
    "    print(NORMAL+'[',' , '.join([x[\"token\"] for x in resp_desc['tokens']]),\"]\")\n",
    "\n",
    "    #print(df_data['authors'].iloc[i], df_data['date'].iloc[i])\n",
    "    #print(df_data['link'].iloc[i], '\\n')"
   ]
  },
  {
   "cell_type": "markdown",
   "id": "a8f1f3d9",
   "metadata": {},
   "source": [
    "##  <span style=\"color:purple\">3. Mapping e insert</span>"
   ]
  },
  {
   "cell_type": "markdown",
   "id": "98f5d9a3",
   "metadata": {},
   "source": [
    "### 3.1 Mapeando os campos"
   ]
  },
  {
   "cell_type": "markdown",
   "id": "b8e2baf8",
   "metadata": {},
   "source": [
    "Os campos do dataset serão mapeados para posteriormente serem inseridos no elastichsearch, \n",
    "\n",
    "**Category** Campo que descreve o assunto da noticia, será mapeado com um campo extra do tipo keyword para permitir a busca com nome exato. E para o texto, o analiser desenvolvido acima, para garantir que os tokens para as categorias com as regras descritas cima.\n",
    "\n",
    "**headline** Campo com titulo da nóticia, tipo text, e com analiser devolvido acima.\n",
    "\n",
    "**short_description** Campo com um resumo da nótica ou um subtitulo, tipo text, e com analiser devolvido acima.\n",
    "\n",
    "**authors** Campo texto com o nome do autor, analisador padrão do elastic e keyword para busca com nome exato.\n",
    "\n",
    "**Link** Link tipo texto\n",
    "\n",
    "**Data** Data tipo data"
   ]
  },
  {
   "cell_type": "code",
   "execution_count": 10,
   "id": "f8edcdd0",
   "metadata": {},
   "outputs": [
    {
     "data": {
      "text/plain": [
       "ObjectApiResponse({'acknowledged': True, 'shards_acknowledged': True, 'index': 'news_category_detection'})"
      ]
     },
     "execution_count": 10,
     "metadata": {},
     "output_type": "execute_result"
    }
   ],
   "source": [
    "\n",
    "INDEX_NAME = 'news_category_detection'\n",
    "\n",
    "INDEX_MAPPING = {\n",
    "        \"settings\": {\n",
    "            \"number_of_shards\": 3,\n",
    "            \"analysis\": analysis\n",
    "    },\n",
    "    \"mappings\": {\n",
    "        \"properties\": {\n",
    "            \"category\": {\n",
    "                \"type\": \"text\",\n",
    "                \"analyzer\": \"analizer_text\",\n",
    "                \"fields\": {\n",
    "                    \"raw\": {\n",
    "                        \"type\": \"keyword\"\n",
    "                    }\n",
    "                }\n",
    "            },\n",
    "            \"headline\": {\n",
    "                \"type\": \"text\",\n",
    "                \"analyzer\": \"analizer_text\",\n",
    "                \"fielddata\": True,\n",
    "                \"fielddata_frequency_filter\": {\n",
    "                    \"min\": 0.01,\n",
    "                    \"min_segment_size\": 10,\n",
    "                    },\n",
    "            },\n",
    "            \"short_description\": {\n",
    "                \"type\": \"text\",\n",
    "                \"analyzer\": \"analizer_text\",\n",
    "                \"fielddata\": True,\n",
    "                \"fielddata_frequency_filter\": {\n",
    "                    \"min\": 0.01,\n",
    "                    \"min_segment_size\": 10,\n",
    "                }\n",
    "            },\n",
    "            \"authors\": {\n",
    "                \"type\": \"text\",\n",
    "                \"fields\": {\n",
    "                    \"raw\": {\n",
    "                        \"type\": \"keyword\"\n",
    "                    }\n",
    "                }\n",
    "            },\n",
    "            \"link\": {\n",
    "                \"type\": \"text\"\n",
    "                \n",
    "            },\n",
    "            \"date\": {\n",
    "                \"type\": \"date\"\n",
    "            },\n",
    "        }\n",
    "    }\n",
    "}\n",
    "\n",
    "if client.indices.exists(index=INDEX_NAME):\n",
    "    client.indices.delete(index=INDEX_NAME)\n",
    "client.indices.create(index=INDEX_NAME, **INDEX_MAPPING)"
   ]
  },
  {
   "cell_type": "markdown",
   "id": "27d7237e",
   "metadata": {},
   "source": [
    "A inserção dos documentos será feit através da tenica bulk"
   ]
  },
  {
   "cell_type": "markdown",
   "id": "626f76d8",
   "metadata": {},
   "source": [
    "### 3.2 Inserindo os documentos"
   ]
  },
  {
   "cell_type": "code",
   "execution_count": 11,
   "id": "862dff0b",
   "metadata": {},
   "outputs": [],
   "source": [
    "from elasticsearch.helpers import bulk\n",
    "\n",
    "def gen_documents(df):\n",
    "    for line in df.index:\n",
    "         yield df.iloc[line].to_dict()\n",
    "            \n",
    "def gen_index_actions(documents):\n",
    "    for doc in documents:\n",
    "        yield {\n",
    "            '_op_type': 'index',\n",
    "            '_index': INDEX_NAME,\n",
    "            **doc,\n",
    "        }\n",
    "        "
   ]
  },
  {
   "cell_type": "code",
   "execution_count": 12,
   "id": "21110a6e",
   "metadata": {},
   "outputs": [
    {
     "data": {
      "text/plain": [
       "ObjectApiResponse({'acknowledged': True, 'shards_acknowledged': True, 'index': 'news_category_detection'})"
      ]
     },
     "execution_count": 12,
     "metadata": {},
     "output_type": "execute_result"
    }
   ],
   "source": [
    "      \n",
    "if client.indices.exists(index=INDEX_NAME):\n",
    "    client.indices.delete(index=INDEX_NAME)\n",
    "client.indices.create(index=INDEX_NAME, **INDEX_MAPPING)"
   ]
  },
  {
   "cell_type": "code",
   "execution_count": 13,
   "id": "d7acca2f",
   "metadata": {},
   "outputs": [
    {
     "name": "stdout",
     "output_type": "stream",
     "text": [
      "Wall time: 1min 6s\n"
     ]
    },
    {
     "data": {
      "text/plain": [
       "ObjectApiResponse({'_shards': {'total': 6, 'successful': 3, 'failed': 0}})"
      ]
     },
     "execution_count": 13,
     "metadata": {},
     "output_type": "execute_result"
    }
   ],
   "source": [
    "%%time\n",
    "documents = gen_documents(df_data)\n",
    "actions = gen_index_actions(documents)\n",
    "\n",
    "success, errors = bulk(client, actions)\n",
    "\n",
    "client.indices.refresh(index=INDEX_NAME)\n",
    "client.indices.flush(index=INDEX_NAME)"
   ]
  },
  {
   "cell_type": "markdown",
   "id": "829c1608",
   "metadata": {},
   "source": [
    "##  <span style=\"color:purple\">4. Buscas e Agregações</span>"
   ]
  },
  {
   "cell_type": "markdown",
   "id": "c0d7bca2",
   "metadata": {},
   "source": [
    "Com os documentos inseridos é possível então realizar buscar os dados e obter seus resultados. Por exemplo,\n",
    "quem são os autores com maior número de notícias, ou os autores com maior número de notícas.\n"
   ]
  },
  {
   "cell_type": "markdown",
   "id": "824dce36",
   "metadata": {},
   "source": [
    "### 4.1 Busa pelo campo Autores"
   ]
  },
  {
   "cell_type": "code",
   "execution_count": 14,
   "id": "8f954a0a",
   "metadata": {},
   "outputs": [],
   "source": [
    "QUERY = {\n",
    "    'match_all': {}\n",
    "}\n",
    "\n",
    "AGG = {\n",
    "    'grupos': {\n",
    "        'terms': {\n",
    "            'field': 'authors.raw',\n",
    "            'size': 40,\n",
    "        }\n",
    "    }\n",
    "}\n",
    "resp = client.search(index=INDEX_NAME, query=QUERY, aggregations=AGG, size=0)"
   ]
  },
  {
   "cell_type": "code",
   "execution_count": 15,
   "id": "4585e9c4",
   "metadata": {},
   "outputs": [
    {
     "data": {
      "text/html": [
       "<div>\n",
       "<style scoped>\n",
       "    .dataframe tbody tr th:only-of-type {\n",
       "        vertical-align: middle;\n",
       "    }\n",
       "\n",
       "    .dataframe tbody tr th {\n",
       "        vertical-align: top;\n",
       "    }\n",
       "\n",
       "    .dataframe thead th {\n",
       "        text-align: right;\n",
       "    }\n",
       "</style>\n",
       "<table border=\"1\" class=\"dataframe\">\n",
       "  <thead>\n",
       "    <tr style=\"text-align: right;\">\n",
       "      <th></th>\n",
       "      <th>key</th>\n",
       "      <th>doc_count</th>\n",
       "    </tr>\n",
       "  </thead>\n",
       "  <tbody>\n",
       "    <tr>\n",
       "      <th>0</th>\n",
       "      <td></td>\n",
       "      <td>36620</td>\n",
       "    </tr>\n",
       "    <tr>\n",
       "      <th>1</th>\n",
       "      <td>Lee Moran</td>\n",
       "      <td>2423</td>\n",
       "    </tr>\n",
       "    <tr>\n",
       "      <th>2</th>\n",
       "      <td>Ron Dicker</td>\n",
       "      <td>1913</td>\n",
       "    </tr>\n",
       "    <tr>\n",
       "      <th>3</th>\n",
       "      <td>Reuters, Reuters</td>\n",
       "      <td>1562</td>\n",
       "    </tr>\n",
       "    <tr>\n",
       "      <th>4</th>\n",
       "      <td>Ed Mazza</td>\n",
       "      <td>1322</td>\n",
       "    </tr>\n",
       "    <tr>\n",
       "      <th>5</th>\n",
       "      <td>Cole Delbyck</td>\n",
       "      <td>1140</td>\n",
       "    </tr>\n",
       "    <tr>\n",
       "      <th>6</th>\n",
       "      <td>Andy McDonald</td>\n",
       "      <td>1068</td>\n",
       "    </tr>\n",
       "    <tr>\n",
       "      <th>7</th>\n",
       "      <td>Julia Brucculieri</td>\n",
       "      <td>1059</td>\n",
       "    </tr>\n",
       "    <tr>\n",
       "      <th>8</th>\n",
       "      <td>Carly Ledbetter</td>\n",
       "      <td>1054</td>\n",
       "    </tr>\n",
       "    <tr>\n",
       "      <th>9</th>\n",
       "      <td>Curtis M. Wong</td>\n",
       "      <td>1020</td>\n",
       "    </tr>\n",
       "    <tr>\n",
       "      <th>10</th>\n",
       "      <td>Mary Papenfuss</td>\n",
       "      <td>974</td>\n",
       "    </tr>\n",
       "    <tr>\n",
       "      <th>11</th>\n",
       "      <td>Bill Bradley</td>\n",
       "      <td>965</td>\n",
       "    </tr>\n",
       "    <tr>\n",
       "      <th>12</th>\n",
       "      <td>Dana Oliver</td>\n",
       "      <td>936</td>\n",
       "    </tr>\n",
       "    <tr>\n",
       "      <th>13</th>\n",
       "      <td>David Moye</td>\n",
       "      <td>893</td>\n",
       "    </tr>\n",
       "    <tr>\n",
       "      <th>14</th>\n",
       "      <td>Sam Levine</td>\n",
       "      <td>893</td>\n",
       "    </tr>\n",
       "    <tr>\n",
       "      <th>15</th>\n",
       "      <td>Michelle Manetti</td>\n",
       "      <td>876</td>\n",
       "    </tr>\n",
       "    <tr>\n",
       "      <th>16</th>\n",
       "      <td>Michelle Persad</td>\n",
       "      <td>875</td>\n",
       "    </tr>\n",
       "    <tr>\n",
       "      <th>17</th>\n",
       "      <td>Nina Golgowski</td>\n",
       "      <td>868</td>\n",
       "    </tr>\n",
       "    <tr>\n",
       "      <th>18</th>\n",
       "      <td>Igor Bobic</td>\n",
       "      <td>866</td>\n",
       "    </tr>\n",
       "    <tr>\n",
       "      <th>19</th>\n",
       "      <td>Ellie Krupnick</td>\n",
       "      <td>861</td>\n",
       "    </tr>\n",
       "    <tr>\n",
       "      <th>20</th>\n",
       "      <td>Dominique Mosbergen</td>\n",
       "      <td>784</td>\n",
       "    </tr>\n",
       "    <tr>\n",
       "      <th>21</th>\n",
       "      <td>Jamie Feldman</td>\n",
       "      <td>772</td>\n",
       "    </tr>\n",
       "    <tr>\n",
       "      <th>22</th>\n",
       "      <td>James Michael Nichols</td>\n",
       "      <td>764</td>\n",
       "    </tr>\n",
       "    <tr>\n",
       "      <th>23</th>\n",
       "      <td>Caroline Bologna</td>\n",
       "      <td>762</td>\n",
       "    </tr>\n",
       "    <tr>\n",
       "      <th>24</th>\n",
       "      <td>Rebecca Adams</td>\n",
       "      <td>753</td>\n",
       "    </tr>\n",
       "    <tr>\n",
       "      <th>25</th>\n",
       "      <td>Jenna Amatulli</td>\n",
       "      <td>711</td>\n",
       "    </tr>\n",
       "    <tr>\n",
       "      <th>26</th>\n",
       "      <td>Matthew Jacobs</td>\n",
       "      <td>702</td>\n",
       "    </tr>\n",
       "    <tr>\n",
       "      <th>27</th>\n",
       "      <td>Ryan Grenoble</td>\n",
       "      <td>698</td>\n",
       "    </tr>\n",
       "    <tr>\n",
       "      <th>28</th>\n",
       "      <td>Daniel Marans</td>\n",
       "      <td>669</td>\n",
       "    </tr>\n",
       "    <tr>\n",
       "      <th>29</th>\n",
       "      <td>Julie R. Thomson</td>\n",
       "      <td>650</td>\n",
       "    </tr>\n",
       "    <tr>\n",
       "      <th>30</th>\n",
       "      <td>Suzy Strutner</td>\n",
       "      <td>650</td>\n",
       "    </tr>\n",
       "    <tr>\n",
       "      <th>31</th>\n",
       "      <td>Marina Fang</td>\n",
       "      <td>648</td>\n",
       "    </tr>\n",
       "    <tr>\n",
       "      <th>32</th>\n",
       "      <td>Sara Boboltz</td>\n",
       "      <td>637</td>\n",
       "    </tr>\n",
       "    <tr>\n",
       "      <th>33</th>\n",
       "      <td>Priscilla Frank</td>\n",
       "      <td>630</td>\n",
       "    </tr>\n",
       "    <tr>\n",
       "      <th>34</th>\n",
       "      <td>Cavan Sieczkowski</td>\n",
       "      <td>627</td>\n",
       "    </tr>\n",
       "    <tr>\n",
       "      <th>35</th>\n",
       "      <td>Hilary Hanson</td>\n",
       "      <td>615</td>\n",
       "    </tr>\n",
       "    <tr>\n",
       "      <th>36</th>\n",
       "      <td>Alanna Vagianos</td>\n",
       "      <td>607</td>\n",
       "    </tr>\n",
       "    <tr>\n",
       "      <th>37</th>\n",
       "      <td>Paige Lavender</td>\n",
       "      <td>598</td>\n",
       "    </tr>\n",
       "    <tr>\n",
       "      <th>38</th>\n",
       "      <td>Rebecca Shapiro</td>\n",
       "      <td>589</td>\n",
       "    </tr>\n",
       "    <tr>\n",
       "      <th>39</th>\n",
       "      <td>Antonia Blumberg</td>\n",
       "      <td>584</td>\n",
       "    </tr>\n",
       "  </tbody>\n",
       "</table>\n",
       "</div>"
      ],
      "text/plain": [
       "                      key  doc_count\n",
       "0                              36620\n",
       "1               Lee Moran       2423\n",
       "2              Ron Dicker       1913\n",
       "3        Reuters, Reuters       1562\n",
       "4                Ed Mazza       1322\n",
       "5            Cole Delbyck       1140\n",
       "6           Andy McDonald       1068\n",
       "7       Julia Brucculieri       1059\n",
       "8         Carly Ledbetter       1054\n",
       "9          Curtis M. Wong       1020\n",
       "10         Mary Papenfuss        974\n",
       "11           Bill Bradley        965\n",
       "12            Dana Oliver        936\n",
       "13             David Moye        893\n",
       "14             Sam Levine        893\n",
       "15       Michelle Manetti        876\n",
       "16        Michelle Persad        875\n",
       "17         Nina Golgowski        868\n",
       "18             Igor Bobic        866\n",
       "19         Ellie Krupnick        861\n",
       "20    Dominique Mosbergen        784\n",
       "21          Jamie Feldman        772\n",
       "22  James Michael Nichols        764\n",
       "23       Caroline Bologna        762\n",
       "24          Rebecca Adams        753\n",
       "25         Jenna Amatulli        711\n",
       "26         Matthew Jacobs        702\n",
       "27          Ryan Grenoble        698\n",
       "28          Daniel Marans        669\n",
       "29       Julie R. Thomson        650\n",
       "30          Suzy Strutner        650\n",
       "31            Marina Fang        648\n",
       "32           Sara Boboltz        637\n",
       "33        Priscilla Frank        630\n",
       "34      Cavan Sieczkowski        627\n",
       "35          Hilary Hanson        615\n",
       "36        Alanna Vagianos        607\n",
       "37         Paige Lavender        598\n",
       "38        Rebecca Shapiro        589\n",
       "39       Antonia Blumberg        584"
      ]
     },
     "execution_count": 15,
     "metadata": {},
     "output_type": "execute_result"
    }
   ],
   "source": [
    "df_authors_agg = pd.DataFrame(resp['aggregations']['grupos']['buckets'])\n",
    "df_authors_agg"
   ]
  },
  {
   "cell_type": "markdown",
   "id": "2e88406b",
   "metadata": {},
   "source": [
    "### 4.2 Busca pela Categória Politica"
   ]
  },
  {
   "cell_type": "markdown",
   "id": "5a89dfb8",
   "metadata": {},
   "source": [
    "Palavras mais comentadas nos títulos na categoria de Política"
   ]
  },
  {
   "cell_type": "code",
   "execution_count": 16,
   "id": "bd341cd9",
   "metadata": {},
   "outputs": [
    {
     "data": {
      "text/html": [
       "<div>\n",
       "<style scoped>\n",
       "    .dataframe tbody tr th:only-of-type {\n",
       "        vertical-align: middle;\n",
       "    }\n",
       "\n",
       "    .dataframe tbody tr th {\n",
       "        vertical-align: top;\n",
       "    }\n",
       "\n",
       "    .dataframe thead th {\n",
       "        text-align: right;\n",
       "    }\n",
       "</style>\n",
       "<table border=\"1\" class=\"dataframe\">\n",
       "  <thead>\n",
       "    <tr style=\"text-align: right;\">\n",
       "      <th></th>\n",
       "      <th>key</th>\n",
       "      <th>doc_count</th>\n",
       "    </tr>\n",
       "  </thead>\n",
       "  <tbody>\n",
       "    <tr>\n",
       "      <th>0</th>\n",
       "      <td>trump</td>\n",
       "      <td>8889</td>\n",
       "    </tr>\n",
       "    <tr>\n",
       "      <th>1</th>\n",
       "      <td>donald</td>\n",
       "      <td>2964</td>\n",
       "    </tr>\n",
       "    <tr>\n",
       "      <th>2</th>\n",
       "      <td>clinton</td>\n",
       "      <td>1509</td>\n",
       "    </tr>\n",
       "    <tr>\n",
       "      <th>3</th>\n",
       "      <td>gop</td>\n",
       "      <td>1458</td>\n",
       "    </tr>\n",
       "    <tr>\n",
       "      <th>4</th>\n",
       "      <td>new</td>\n",
       "      <td>1239</td>\n",
       "    </tr>\n",
       "    <tr>\n",
       "      <th>...</th>\n",
       "      <td>...</td>\n",
       "      <td>...</td>\n",
       "    </tr>\n",
       "    <tr>\n",
       "      <th>95</th>\n",
       "      <td>attack</td>\n",
       "      <td>8</td>\n",
       "    </tr>\n",
       "    <tr>\n",
       "      <th>96</th>\n",
       "      <td>study</td>\n",
       "      <td>8</td>\n",
       "    </tr>\n",
       "    <tr>\n",
       "      <th>97</th>\n",
       "      <td>photo</td>\n",
       "      <td>6</td>\n",
       "    </tr>\n",
       "    <tr>\n",
       "      <th>98</th>\n",
       "      <td>want</td>\n",
       "      <td>6</td>\n",
       "    </tr>\n",
       "    <tr>\n",
       "      <th>99</th>\n",
       "      <td>wants</td>\n",
       "      <td>6</td>\n",
       "    </tr>\n",
       "  </tbody>\n",
       "</table>\n",
       "<p>100 rows × 2 columns</p>\n",
       "</div>"
      ],
      "text/plain": [
       "        key  doc_count\n",
       "0     trump       8889\n",
       "1    donald       2964\n",
       "2   clinton       1509\n",
       "3       gop       1458\n",
       "4       new       1239\n",
       "..      ...        ...\n",
       "95   attack          8\n",
       "96    study          8\n",
       "97    photo          6\n",
       "98     want          6\n",
       "99    wants          6\n",
       "\n",
       "[100 rows x 2 columns]"
      ]
     },
     "execution_count": 16,
     "metadata": {},
     "output_type": "execute_result"
    }
   ],
   "source": [
    "QUERY = {\n",
    "    'term': {\n",
    "        'category.raw': 'POLITICS'\n",
    "    }\n",
    "}\n",
    "\n",
    "AGG = {\n",
    "    'grupos': {\n",
    "        'terms': {\n",
    "            'field': 'headline',\n",
    "            'size': 100,\n",
    "        },\n",
    "    }\n",
    "}\n",
    "resp = client.search(index=INDEX_NAME, query=QUERY, aggregations=AGG, size=0)\n",
    "df_politcs_agg_headline = pd.DataFrame(resp['aggregations']['grupos']['buckets'])\n",
    "df_politcs_agg_headline"
   ]
  },
  {
   "cell_type": "markdown",
   "id": "6ad97d72",
   "metadata": {},
   "source": [
    "Uma wordcloud das palavras da categória de Política"
   ]
  },
  {
   "cell_type": "code",
   "execution_count": 17,
   "id": "23bf9f89",
   "metadata": {},
   "outputs": [
    {
     "data": {
      "text/plain": [
       "<matplotlib.image.AxesImage at 0x1d85cfc9460>"
      ]
     },
     "execution_count": 17,
     "metadata": {},
     "output_type": "execute_result"
    },
    {
     "data": {
      "image/png": "[encoded data removed]",
      "text/plain": [
       "<Figure size 1152x432 with 1 Axes>"
      ]
     },
     "metadata": {
      "needs_background": "light"
     },
     "output_type": "display_data"
    }
   ],
   "source": [
    "import wordcloud\n",
    "import matplotlib.pyplot as plt\n",
    "frequencies = {}\n",
    "buckets =resp['aggregations']['grupos']['buckets']\n",
    "for bucket in buckets:\n",
    "    frequencies[bucket['key']] = bucket['doc_count']\n",
    "\n",
    "cloud = wordcloud.WordCloud(background_color='white')\n",
    "cloud.generate_from_frequencies(frequencies)\n",
    "\n",
    "fig, ax = plt.subplots(figsize=(16, 6))\n",
    "ax.imshow(cloud)"
   ]
  },
  {
   "cell_type": "markdown",
   "id": "37709a4b",
   "metadata": {},
   "source": [
    "### 4.3 Busca Geral"
   ]
  },
  {
   "cell_type": "code",
   "execution_count": 18,
   "id": "c4bdde3e",
   "metadata": {},
   "outputs": [
    {
     "data": {
      "text/plain": [
       "<matplotlib.image.AxesImage at 0x1d85cca3ac0>"
      ]
     },
     "execution_count": 18,
     "metadata": {},
     "output_type": "execute_result"
    },
    {
     "data": {
      "image/png": "[encoded data removed]",
      "text/plain": [
       "<Figure size 1152x432 with 1 Axes>"
      ]
     },
     "metadata": {
      "needs_background": "light"
     },
     "output_type": "display_data"
    }
   ],
   "source": [
    "QUERY = {\n",
    "     'match_all': {}\n",
    "}\n",
    "\n",
    "AGG = {\n",
    "    'grupos': {\n",
    "        'terms': {\n",
    "            'field': 'headline',\n",
    "            'size': 2000000\n",
    "        },\n",
    "    }\n",
    "}\n",
    "resp = client.search(index=INDEX_NAME, query=QUERY, aggregations=AGG, size=0)\n",
    "frequencies = {}\n",
    "buckets =resp['aggregations']['grupos']['buckets']\n",
    "for bucket in buckets:\n",
    "    frequencies[bucket['key']] = bucket['doc_count']\n",
    "\n",
    "cloud = wordcloud.WordCloud(background_color='white')\n",
    "cloud.generate_from_frequencies(frequencies)\n",
    "\n",
    "fig, ax = plt.subplots(figsize=(16, 6))\n",
    "ax.imshow(cloud)"
   ]
  },
  {
   "cell_type": "markdown",
   "id": "4b5d4a22",
   "metadata": {},
   "source": [
    "##  <span style=\"color:purple\">4. More Like This</span>"
   ]
  },
  {
   "cell_type": "markdown",
   "id": "4686e61c",
   "metadata": {},
   "source": [
    "The More Like This Query finds documents that are \"like\" a given set of documents. In order to do so, MLT selects a set of representative terms of these input documents, forms a query using these terms, executes the query and returns the results. The user controls the input documents, how the terms should be selected and how the query is formed [https://www.elastic.co/guide/en/elasticsearch/reference/8.2/query-dsl-mlt-query.html]."
   ]
  },
  {
   "cell_type": "markdown",
   "id": "c867d400",
   "metadata": {},
   "source": [
    "Pode ser utilizada por exemplo para encontrar informações aproximadas, por exemplo, a busca por \"president\""
   ]
  },
  {
   "cell_type": "code",
   "execution_count": 168,
   "id": "afad98d1",
   "metadata": {},
   "outputs": [
    {
     "data": {
      "text/html": [
       "<div>\n",
       "<style scoped>\n",
       "    .dataframe tbody tr th:only-of-type {\n",
       "        vertical-align: middle;\n",
       "    }\n",
       "\n",
       "    .dataframe tbody tr th {\n",
       "        vertical-align: top;\n",
       "    }\n",
       "\n",
       "    .dataframe thead th {\n",
       "        text-align: right;\n",
       "    }\n",
       "</style>\n",
       "<table border=\"1\" class=\"dataframe\">\n",
       "  <thead>\n",
       "    <tr style=\"text-align: right;\">\n",
       "      <th></th>\n",
       "      <th>category</th>\n",
       "      <th>headline</th>\n",
       "      <th>authors</th>\n",
       "      <th>link</th>\n",
       "      <th>short_description</th>\n",
       "      <th>date</th>\n",
       "    </tr>\n",
       "  </thead>\n",
       "  <tbody>\n",
       "    <tr>\n",
       "      <th>0</th>\n",
       "      <td>POLITICS</td>\n",
       "      <td>Not Even Donald Trump Can Believe He's President</td>\n",
       "      <td>Igor Bobic</td>\n",
       "      <td>https://www.huffingtonpost.com/entry/donald-tr...</td>\n",
       "      <td>\"I’m president ― hey, I’m president!\"</td>\n",
       "      <td>2017-05-04T00:00:00</td>\n",
       "    </tr>\n",
       "    <tr>\n",
       "      <th>1</th>\n",
       "      <td>POLITICS</td>\n",
       "      <td>Wednesday's Morning Email: Why Obama May Be Kn...</td>\n",
       "      <td>Lauren Weber</td>\n",
       "      <td>https://www.huffingtonpost.com/entry/wednesday...</td>\n",
       "      <td>The president has commuted 1,385 sentences, th...</td>\n",
       "      <td>2017-01-18T00:00:00</td>\n",
       "    </tr>\n",
       "    <tr>\n",
       "      <th>2</th>\n",
       "      <td>COMEDY</td>\n",
       "      <td>Stephen Colbert Just Wants Donald Trump's Lawy...</td>\n",
       "      <td>Ron Dicker</td>\n",
       "      <td>https://www.huffingtonpost.com/entry/stephen-c...</td>\n",
       "      <td>He calls Jay Sekulow \"the President Trump of t...</td>\n",
       "      <td>2017-06-20T00:00:00</td>\n",
       "    </tr>\n",
       "    <tr>\n",
       "      <th>3</th>\n",
       "      <td>POLITICS</td>\n",
       "      <td>How Obama's 'Brutal' First Job Inspired A New ...</td>\n",
       "      <td>Chris D'Angelo</td>\n",
       "      <td>https://www.huffingtonpost.com/entry/obama-fir...</td>\n",
       "      <td>Before Obama was president of the United State...</td>\n",
       "      <td>2016-02-28T00:00:00</td>\n",
       "    </tr>\n",
       "    <tr>\n",
       "      <th>4</th>\n",
       "      <td>POLITICS</td>\n",
       "      <td>Emmanuel Macron Dropped Onto A Nuclear Sub And...</td>\n",
       "      <td>Lee Moran</td>\n",
       "      <td>https://www.huffingtonpost.com/entry/emmanuel-...</td>\n",
       "      <td>\"Now that's a President!\"</td>\n",
       "      <td>2017-07-06T00:00:00</td>\n",
       "    </tr>\n",
       "    <tr>\n",
       "      <th>5</th>\n",
       "      <td>POLITICS</td>\n",
       "      <td>Not Even Mike Pence Can Defend Trump's Wiretap...</td>\n",
       "      <td>Sam Levine</td>\n",
       "      <td>https://www.huffingtonpost.com/entry/mike-penc...</td>\n",
       "      <td>“I think the president’s tweet speaks for itse...</td>\n",
       "      <td>2017-03-07T00:00:00</td>\n",
       "    </tr>\n",
       "    <tr>\n",
       "      <th>6</th>\n",
       "      <td>PARENTING</td>\n",
       "      <td>Table Talk: Solar Panels At The White House</td>\n",
       "      <td>Mandy Velez</td>\n",
       "      <td>https://www.huffingtonpost.com/entry/table-tal...</td>\n",
       "      <td>President Carter actually installed solar pane...</td>\n",
       "      <td>2013-08-30T00:00:00</td>\n",
       "    </tr>\n",
       "    <tr>\n",
       "      <th>7</th>\n",
       "      <td>POLITICS</td>\n",
       "      <td>Obama Urges Russia To Stop Bombing 'Moderate' ...</td>\n",
       "      <td></td>\n",
       "      <td>https://www.huffingtonpost.com/entry/obama-rus...</td>\n",
       "      <td>The president spoke with Russian President Vla...</td>\n",
       "      <td>2016-02-14T00:00:00</td>\n",
       "    </tr>\n",
       "    <tr>\n",
       "      <th>8</th>\n",
       "      <td>POLITICS</td>\n",
       "      <td>Nancy Pelosi Calls For Sean Spicer's Ouster Am...</td>\n",
       "      <td>Igor Bobic</td>\n",
       "      <td>https://www.huffingtonpost.com/entry/nancy-pel...</td>\n",
       "      <td>\"Either he is speaking for the president, or t...</td>\n",
       "      <td>2017-04-11T00:00:00</td>\n",
       "    </tr>\n",
       "    <tr>\n",
       "      <th>9</th>\n",
       "      <td>POLITICS</td>\n",
       "      <td>Tuesday's Morning Email: Everything You Need T...</td>\n",
       "      <td>Lauren Weber</td>\n",
       "      <td>https://www.huffingtonpost.com/entry/tuesdays-...</td>\n",
       "      <td>And what it means for President</td>\n",
       "      <td>2017-03-21T00:00:00</td>\n",
       "    </tr>\n",
       "  </tbody>\n",
       "</table>\n",
       "</div>"
      ],
      "text/plain": [
       "    category                                           headline  \\\n",
       "0   POLITICS   Not Even Donald Trump Can Believe He's President   \n",
       "1   POLITICS  Wednesday's Morning Email: Why Obama May Be Kn...   \n",
       "2     COMEDY  Stephen Colbert Just Wants Donald Trump's Lawy...   \n",
       "3   POLITICS  How Obama's 'Brutal' First Job Inspired A New ...   \n",
       "4   POLITICS  Emmanuel Macron Dropped Onto A Nuclear Sub And...   \n",
       "5   POLITICS  Not Even Mike Pence Can Defend Trump's Wiretap...   \n",
       "6  PARENTING        Table Talk: Solar Panels At The White House   \n",
       "7   POLITICS  Obama Urges Russia To Stop Bombing 'Moderate' ...   \n",
       "8   POLITICS  Nancy Pelosi Calls For Sean Spicer's Ouster Am...   \n",
       "9   POLITICS  Tuesday's Morning Email: Everything You Need T...   \n",
       "\n",
       "          authors                                               link  \\\n",
       "0      Igor Bobic  https://www.huffingtonpost.com/entry/donald-tr...   \n",
       "1    Lauren Weber  https://www.huffingtonpost.com/entry/wednesday...   \n",
       "2      Ron Dicker  https://www.huffingtonpost.com/entry/stephen-c...   \n",
       "3  Chris D'Angelo  https://www.huffingtonpost.com/entry/obama-fir...   \n",
       "4       Lee Moran  https://www.huffingtonpost.com/entry/emmanuel-...   \n",
       "5      Sam Levine  https://www.huffingtonpost.com/entry/mike-penc...   \n",
       "6     Mandy Velez  https://www.huffingtonpost.com/entry/table-tal...   \n",
       "7                  https://www.huffingtonpost.com/entry/obama-rus...   \n",
       "8      Igor Bobic  https://www.huffingtonpost.com/entry/nancy-pel...   \n",
       "9    Lauren Weber  https://www.huffingtonpost.com/entry/tuesdays-...   \n",
       "\n",
       "                                   short_description                 date  \n",
       "0              \"I’m president ― hey, I’m president!\"  2017-05-04T00:00:00  \n",
       "1  The president has commuted 1,385 sentences, th...  2017-01-18T00:00:00  \n",
       "2  He calls Jay Sekulow \"the President Trump of t...  2017-06-20T00:00:00  \n",
       "3  Before Obama was president of the United State...  2016-02-28T00:00:00  \n",
       "4                          \"Now that's a President!\"  2017-07-06T00:00:00  \n",
       "5  “I think the president’s tweet speaks for itse...  2017-03-07T00:00:00  \n",
       "6  President Carter actually installed solar pane...  2013-08-30T00:00:00  \n",
       "7  The president spoke with Russian President Vla...  2016-02-14T00:00:00  \n",
       "8  \"Either he is speaking for the president, or t...  2017-04-11T00:00:00  \n",
       "9                    And what it means for President  2017-03-21T00:00:00  "
      ]
     },
     "execution_count": 168,
     "metadata": {},
     "output_type": "execute_result"
    }
   ],
   "source": [
    "QUERY = {\n",
    "    'more_like_this': {\n",
    "        'fields': ['headline', 'short_description'],\n",
    "        'like':\"president\",\n",
    "        'min_term_freq': 1,\n",
    "        'max_query_terms': 12,\n",
    "    }\n",
    "}\n",
    "resp = client.search(index=INDEX_NAME, query=QUERY, size=10)\n",
    "df_resp = pd.DataFrame(x['_source'] for x in resp['hits']['hits'])\n",
    "df_resp"
   ]
  },
  {
   "cell_type": "code",
   "execution_count": 169,
   "id": "d4fcf7c3",
   "metadata": {},
   "outputs": [
    {
     "data": {
      "text/plain": [
       "category                                                      POLITICS\n",
       "headline              Not Even Donald Trump Can Believe He's President\n",
       "authors                                                     Igor Bobic\n",
       "link                 https://www.huffingtonpost.com/entry/donald-tr...\n",
       "short_description                \"I’m president ― hey, I’m president!\"\n",
       "date                                               2017-05-04T00:00:00\n",
       "Name: 0, dtype: object"
      ]
     },
     "execution_count": 169,
     "metadata": {},
     "output_type": "execute_result"
    }
   ],
   "source": [
    "df_resp.iloc[0].T"
   ]
  },
  {
   "cell_type": "code",
   "execution_count": 170,
   "id": "28dc60ad",
   "metadata": {},
   "outputs": [
    {
     "data": {
      "text/plain": [
       "\"Not Even Donald Trump Can Believe He's President\""
      ]
     },
     "execution_count": 170,
     "metadata": {},
     "output_type": "execute_result"
    }
   ],
   "source": [
    "df_resp ['headline'].iloc[0]"
   ]
  },
  {
   "cell_type": "markdown",
   "id": "67c9c3ea",
   "metadata": {},
   "source": [
    "### Classificador KNN com More like this"
   ]
  },
  {
   "cell_type": "markdown",
   "id": "fd257d23",
   "metadata": {},
   "source": [
    "Os metodos abaixo criam o classificador da seguinte forma, inicialmente seleciona uma quantidade de documentos.\n",
    "Para utilizar o more like this para obter uma quantidade de documentos visinhos e \n",
    "classificar com base na categória do documento selecionado, com base na categória com maior score dos vizinhos."
   ]
  },
  {
   "cell_type": "code",
   "execution_count": 347,
   "id": "4ee8ea16",
   "metadata": {},
   "outputs": [],
   "source": [
    "def classify_document(doc_id, size=10):\n",
    "    return classify_with_score(\n",
    "        [\n",
    "            {\n",
    "                '_index': INDEX_NAME,\n",
    "                '_id': doc_id\n",
    "            }\n",
    "        ]\n",
    "    )\n",
    "\n",
    "def classify_with_score(like, size=10):\n",
    "    \n",
    "    query = {\n",
    "        'more_like_this': {\n",
    "            'fields': [\"headline\"],\n",
    "            'like':like,\n",
    "            'min_term_freq': 1,\n",
    "            'max_query_terms': 12,\n",
    "            'minimum_should_match': -100,\n",
    "        }\n",
    "    }\n",
    "    resp = client.search(index=INDEX_NAME, query=query, size=size)\n",
    "    resp_df = pd.DataFrame(\n",
    "            {\n",
    "                '_id': x['_id'],\n",
    "                '_score': x['_score'],\n",
    "                **x['_source']\n",
    "            } for x in resp['hits']['hits']\n",
    "        )\n",
    "\n",
    "    \n",
    "    return resp_df.groupby('category').sum().sort_values('_score', ascending=False).index[0]\n",
    "    "
   ]
  },
  {
   "cell_type": "markdown",
   "id": "72975daf",
   "metadata": {},
   "source": [
    "Seleciona uma quantidade de documentos, por exemplo, 100. Sem uma query, uma seleção qualquer."
   ]
  },
  {
   "cell_type": "code",
   "execution_count": 348,
   "id": "6bcf66fc",
   "metadata": {},
   "outputs": [
    {
     "data": {
      "text/plain": [
       "[{'_index': 'news_category_detection',\n",
       "  '_id': 'JMRGkoEBE8fvlEs2esV1',\n",
       "  '_score': 1.0,\n",
       "  '_source': {'category': 'WORLD NEWS'}},\n",
       " {'_index': 'news_category_detection',\n",
       "  '_id': 'JcRGkoEBE8fvlEs2esV1',\n",
       "  '_score': 1.0,\n",
       "  '_source': {'category': 'WORLD NEWS'}},\n",
       " {'_index': 'news_category_detection',\n",
       "  '_id': 'KsRGkoEBE8fvlEs2esV1',\n",
       "  '_score': 1.0,\n",
       "  '_source': {'category': 'POLITICS'}},\n",
       " {'_index': 'news_category_detection',\n",
       "  '_id': 'LMRGkoEBE8fvlEs2esV1',\n",
       "  '_score': 1.0,\n",
       "  '_source': {'category': 'ENTERTAINMENT'}},\n",
       " {'_index': 'news_category_detection',\n",
       "  '_id': 'LsRGkoEBE8fvlEs2esV1',\n",
       "  '_score': 1.0,\n",
       "  '_source': {'category': 'POLITICS'}},\n",
       " {'_index': 'news_category_detection',\n",
       "  '_id': 'L8RGkoEBE8fvlEs2esV1',\n",
       "  '_score': 1.0,\n",
       "  '_source': {'category': 'HEALTHY LIVING'}},\n",
       " {'_index': 'news_category_detection',\n",
       "  '_id': 'McRGkoEBE8fvlEs2esV1',\n",
       "  '_score': 1.0,\n",
       "  '_source': {'category': 'GREEN'}},\n",
       " {'_index': 'news_category_detection',\n",
       "  '_id': 'NMRGkoEBE8fvlEs2esV1',\n",
       "  '_score': 1.0,\n",
       "  '_source': {'category': 'ENTERTAINMENT'}},\n",
       " {'_index': 'news_category_detection',\n",
       "  '_id': 'NcRGkoEBE8fvlEs2esV1',\n",
       "  '_score': 1.0,\n",
       "  '_source': {'category': 'POLITICS'}},\n",
       " {'_index': 'news_category_detection',\n",
       "  '_id': 'NsRGkoEBE8fvlEs2esV1',\n",
       "  '_score': 1.0,\n",
       "  '_source': {'category': 'POLITICS'}},\n",
       " {'_index': 'news_category_detection',\n",
       "  '_id': 'OMRGkoEBE8fvlEs2esV1',\n",
       "  '_score': 1.0,\n",
       "  '_source': {'category': 'LATINO VOICES'}},\n",
       " {'_index': 'news_category_detection',\n",
       "  '_id': 'OsRGkoEBE8fvlEs2esV1',\n",
       "  '_score': 1.0,\n",
       "  '_source': {'category': 'GREEN'}},\n",
       " {'_index': 'news_category_detection',\n",
       "  '_id': 'O8RGkoEBE8fvlEs2esV1',\n",
       "  '_score': 1.0,\n",
       "  '_source': {'category': 'TASTE'}},\n",
       " {'_index': 'news_category_detection',\n",
       "  '_id': 'PMRGkoEBE8fvlEs2esV1',\n",
       "  '_score': 1.0,\n",
       "  '_source': {'category': 'POLITICS'}},\n",
       " {'_index': 'news_category_detection',\n",
       "  '_id': 'P8RGkoEBE8fvlEs2esV1',\n",
       "  '_score': 1.0,\n",
       "  '_source': {'category': 'POLITICS'}},\n",
       " {'_index': 'news_category_detection',\n",
       "  '_id': 'RMRGkoEBE8fvlEs2esV1',\n",
       "  '_score': 1.0,\n",
       "  '_source': {'category': 'IMPACT'}},\n",
       " {'_index': 'news_category_detection',\n",
       "  '_id': 'RsRGkoEBE8fvlEs2esV1',\n",
       "  '_score': 1.0,\n",
       "  '_source': {'category': 'COMEDY'}},\n",
       " {'_index': 'news_category_detection',\n",
       "  '_id': 'SMRGkoEBE8fvlEs2esV1',\n",
       "  '_score': 1.0,\n",
       "  '_source': {'category': 'ENTERTAINMENT'}},\n",
       " {'_index': 'news_category_detection',\n",
       "  '_id': 'ScRGkoEBE8fvlEs2esV1',\n",
       "  '_score': 1.0,\n",
       "  '_source': {'category': 'POLITICS'}},\n",
       " {'_index': 'news_category_detection',\n",
       "  '_id': 'SsRGkoEBE8fvlEs2esV1',\n",
       "  '_score': 1.0,\n",
       "  '_source': {'category': 'ARTS & CULTURE'}},\n",
       " {'_index': 'news_category_detection',\n",
       "  '_id': 'TMRGkoEBE8fvlEs2esV1',\n",
       "  '_score': 1.0,\n",
       "  '_source': {'category': 'WEIRD NEWS'}},\n",
       " {'_index': 'news_category_detection',\n",
       "  '_id': 'TcRGkoEBE8fvlEs2esV1',\n",
       "  '_score': 1.0,\n",
       "  '_source': {'category': 'PARENTS'}},\n",
       " {'_index': 'news_category_detection',\n",
       "  '_id': 'TsRGkoEBE8fvlEs2esV1',\n",
       "  '_score': 1.0,\n",
       "  '_source': {'category': 'TASTE'}},\n",
       " {'_index': 'news_category_detection',\n",
       "  '_id': 'UcRGkoEBE8fvlEs2esV1',\n",
       "  '_score': 1.0,\n",
       "  '_source': {'category': 'ENTERTAINMENT'}},\n",
       " {'_index': 'news_category_detection',\n",
       "  '_id': 'VcRGkoEBE8fvlEs2esV1',\n",
       "  '_score': 1.0,\n",
       "  '_source': {'category': 'BLACK VOICES'}},\n",
       " {'_index': 'news_category_detection',\n",
       "  '_id': 'VsRGkoEBE8fvlEs2esV1',\n",
       "  '_score': 1.0,\n",
       "  '_source': {'category': 'QUEER VOICES'}},\n",
       " {'_index': 'news_category_detection',\n",
       "  '_id': 'V8RGkoEBE8fvlEs2esV1',\n",
       "  '_score': 1.0,\n",
       "  '_source': {'category': 'BUSINESS'}},\n",
       " {'_index': 'news_category_detection',\n",
       "  '_id': 'WMRGkoEBE8fvlEs2esV1',\n",
       "  '_score': 1.0,\n",
       "  '_source': {'category': 'POLITICS'}},\n",
       " {'_index': 'news_category_detection',\n",
       "  '_id': 'WsRGkoEBE8fvlEs2esV1',\n",
       "  '_score': 1.0,\n",
       "  '_source': {'category': 'HEALTHY LIVING'}},\n",
       " {'_index': 'news_category_detection',\n",
       "  '_id': 'W8RGkoEBE8fvlEs2esV1',\n",
       "  '_score': 1.0,\n",
       "  '_source': {'category': 'POLITICS'}},\n",
       " {'_index': 'news_category_detection',\n",
       "  '_id': 'YMRGkoEBE8fvlEs2esV1',\n",
       "  '_score': 1.0,\n",
       "  '_source': {'category': 'HEALTHY LIVING'}},\n",
       " {'_index': 'news_category_detection',\n",
       "  '_id': 'YcRGkoEBE8fvlEs2esV1',\n",
       "  '_score': 1.0,\n",
       "  '_source': {'category': 'IMPACT'}},\n",
       " {'_index': 'news_category_detection',\n",
       "  '_id': 'YsRGkoEBE8fvlEs2esV1',\n",
       "  '_score': 1.0,\n",
       "  '_source': {'category': 'ARTS & CULTURE'}},\n",
       " {'_index': 'news_category_detection',\n",
       "  '_id': 'ZMRGkoEBE8fvlEs2esV1',\n",
       "  '_score': 1.0,\n",
       "  '_source': {'category': 'WORLD NEWS'}},\n",
       " {'_index': 'news_category_detection',\n",
       "  '_id': 'Z8RGkoEBE8fvlEs2esV1',\n",
       "  '_score': 1.0,\n",
       "  '_source': {'category': 'IMPACT'}},\n",
       " {'_index': 'news_category_detection',\n",
       "  '_id': 'acRGkoEBE8fvlEs2esV1',\n",
       "  '_score': 1.0,\n",
       "  '_source': {'category': 'QUEER VOICES'}},\n",
       " {'_index': 'news_category_detection',\n",
       "  '_id': 'bMRGkoEBE8fvlEs2esV1',\n",
       "  '_score': 1.0,\n",
       "  '_source': {'category': 'POLITICS'}},\n",
       " {'_index': 'news_category_detection',\n",
       "  '_id': 'bsRGkoEBE8fvlEs2esV1',\n",
       "  '_score': 1.0,\n",
       "  '_source': {'category': 'HEALTHY LIVING'}},\n",
       " {'_index': 'news_category_detection',\n",
       "  '_id': 'cMRGkoEBE8fvlEs2esV1',\n",
       "  '_score': 1.0,\n",
       "  '_source': {'category': 'HEALTHY LIVING'}},\n",
       " {'_index': 'news_category_detection',\n",
       "  '_id': 'c8RGkoEBE8fvlEs2esV1',\n",
       "  '_score': 1.0,\n",
       "  '_source': {'category': 'PARENTS'}},\n",
       " {'_index': 'news_category_detection',\n",
       "  '_id': 'dcRGkoEBE8fvlEs2esV1',\n",
       "  '_score': 1.0,\n",
       "  '_source': {'category': 'ENTERTAINMENT'}},\n",
       " {'_index': 'news_category_detection',\n",
       "  '_id': 'dsRGkoEBE8fvlEs2esV1',\n",
       "  '_score': 1.0,\n",
       "  '_source': {'category': 'ENTERTAINMENT'}},\n",
       " {'_index': 'news_category_detection',\n",
       "  '_id': 'eMRGkoEBE8fvlEs2esV1',\n",
       "  '_score': 1.0,\n",
       "  '_source': {'category': 'ENTERTAINMENT'}},\n",
       " {'_index': 'news_category_detection',\n",
       "  '_id': 'ecRGkoEBE8fvlEs2esV1',\n",
       "  '_score': 1.0,\n",
       "  '_source': {'category': 'ENTERTAINMENT'}},\n",
       " {'_index': 'news_category_detection',\n",
       "  '_id': 'fMRGkoEBE8fvlEs2esV1',\n",
       "  '_score': 1.0,\n",
       "  '_source': {'category': 'POLITICS'}},\n",
       " {'_index': 'news_category_detection',\n",
       "  '_id': 'fcRGkoEBE8fvlEs2esV1',\n",
       "  '_score': 1.0,\n",
       "  '_source': {'category': 'POLITICS'}},\n",
       " {'_index': 'news_category_detection',\n",
       "  '_id': 'fsRGkoEBE8fvlEs2esV1',\n",
       "  '_score': 1.0,\n",
       "  '_source': {'category': 'PARENTS'}},\n",
       " {'_index': 'news_category_detection',\n",
       "  '_id': 'hsRGkoEBE8fvlEs2esV1',\n",
       "  '_score': 1.0,\n",
       "  '_source': {'category': 'QUEER VOICES'}},\n",
       " {'_index': 'news_category_detection',\n",
       "  '_id': 'iMRGkoEBE8fvlEs2esV1',\n",
       "  '_score': 1.0,\n",
       "  '_source': {'category': 'PARENTS'}},\n",
       " {'_index': 'news_category_detection',\n",
       "  '_id': 'icRGkoEBE8fvlEs2esV1',\n",
       "  '_score': 1.0,\n",
       "  '_source': {'category': 'ENTERTAINMENT'}},\n",
       " {'_index': 'news_category_detection',\n",
       "  '_id': 'i8RGkoEBE8fvlEs2esV1',\n",
       "  '_score': 1.0,\n",
       "  '_source': {'category': 'ENTERTAINMENT'}},\n",
       " {'_index': 'news_category_detection',\n",
       "  '_id': 'jMRGkoEBE8fvlEs2esV1',\n",
       "  '_score': 1.0,\n",
       "  '_source': {'category': 'PARENTS'}},\n",
       " {'_index': 'news_category_detection',\n",
       "  '_id': 'kMRGkoEBE8fvlEs2esV1',\n",
       "  '_score': 1.0,\n",
       "  '_source': {'category': 'STYLE'}},\n",
       " {'_index': 'news_category_detection',\n",
       "  '_id': 'k8RGkoEBE8fvlEs2esV1',\n",
       "  '_score': 1.0,\n",
       "  '_source': {'category': 'TECH'}},\n",
       " {'_index': 'news_category_detection',\n",
       "  '_id': 'lcRGkoEBE8fvlEs2esV1',\n",
       "  '_score': 1.0,\n",
       "  '_source': {'category': 'TASTE'}},\n",
       " {'_index': 'news_category_detection',\n",
       "  '_id': 'l8RGkoEBE8fvlEs2esV1',\n",
       "  '_score': 1.0,\n",
       "  '_source': {'category': 'WOMEN'}},\n",
       " {'_index': 'news_category_detection',\n",
       "  '_id': 'mMRGkoEBE8fvlEs2esV1',\n",
       "  '_score': 1.0,\n",
       "  '_source': {'category': 'BLACK VOICES'}},\n",
       " {'_index': 'news_category_detection',\n",
       "  '_id': 'ocRGkoEBE8fvlEs2esV1',\n",
       "  '_score': 1.0,\n",
       "  '_source': {'category': 'POLITICS'}},\n",
       " {'_index': 'news_category_detection',\n",
       "  '_id': 'osRGkoEBE8fvlEs2esV1',\n",
       "  '_score': 1.0,\n",
       "  '_source': {'category': 'TASTE'}},\n",
       " {'_index': 'news_category_detection',\n",
       "  '_id': 'psRGkoEBE8fvlEs2esV1',\n",
       "  '_score': 1.0,\n",
       "  '_source': {'category': 'LATINO VOICES'}},\n",
       " {'_index': 'news_category_detection',\n",
       "  '_id': 'qsRGkoEBE8fvlEs2esV1',\n",
       "  '_score': 1.0,\n",
       "  '_source': {'category': 'COMEDY'}},\n",
       " {'_index': 'news_category_detection',\n",
       "  '_id': 'rsRGkoEBE8fvlEs2esV1',\n",
       "  '_score': 1.0,\n",
       "  '_source': {'category': 'ENTERTAINMENT'}},\n",
       " {'_index': 'news_category_detection',\n",
       "  '_id': 'r8RGkoEBE8fvlEs2esV1',\n",
       "  '_score': 1.0,\n",
       "  '_source': {'category': 'ENTERTAINMENT'}},\n",
       " {'_index': 'news_category_detection',\n",
       "  '_id': 'vcRGkoEBE8fvlEs2esV1',\n",
       "  '_score': 1.0,\n",
       "  '_source': {'category': 'TASTE'}},\n",
       " {'_index': 'news_category_detection',\n",
       "  '_id': 'wMRGkoEBE8fvlEs2esV1',\n",
       "  '_score': 1.0,\n",
       "  '_source': {'category': 'POLITICS'}},\n",
       " {'_index': 'news_category_detection',\n",
       "  '_id': 'xMRGkoEBE8fvlEs2esV1',\n",
       "  '_score': 1.0,\n",
       "  '_source': {'category': 'POLITICS'}},\n",
       " {'_index': 'news_category_detection',\n",
       "  '_id': 'ysRGkoEBE8fvlEs2esV1',\n",
       "  '_score': 1.0,\n",
       "  '_source': {'category': 'ENTERTAINMENT'}},\n",
       " {'_index': 'news_category_detection',\n",
       "  '_id': 'y8RGkoEBE8fvlEs2esV1',\n",
       "  '_score': 1.0,\n",
       "  '_source': {'category': 'CRIME'}},\n",
       " {'_index': 'news_category_detection',\n",
       "  '_id': 'zsRGkoEBE8fvlEs2esV1',\n",
       "  '_score': 1.0,\n",
       "  '_source': {'category': 'POLITICS'}},\n",
       " {'_index': 'news_category_detection',\n",
       "  '_id': 'z8RGkoEBE8fvlEs2esV1',\n",
       "  '_score': 1.0,\n",
       "  '_source': {'category': 'POLITICS'}},\n",
       " {'_index': 'news_category_detection',\n",
       "  '_id': '1MRGkoEBE8fvlEs2esV1',\n",
       "  '_score': 1.0,\n",
       "  '_source': {'category': 'STYLE'}},\n",
       " {'_index': 'news_category_detection',\n",
       "  '_id': '2MRGkoEBE8fvlEs2esV1',\n",
       "  '_score': 1.0,\n",
       "  '_source': {'category': 'QUEER VOICES'}},\n",
       " {'_index': 'news_category_detection',\n",
       "  '_id': '2sRGkoEBE8fvlEs2esV1',\n",
       "  '_score': 1.0,\n",
       "  '_source': {'category': 'PARENTS'}},\n",
       " {'_index': 'news_category_detection',\n",
       "  '_id': '28RGkoEBE8fvlEs2esV1',\n",
       "  '_score': 1.0,\n",
       "  '_source': {'category': 'POLITICS'}},\n",
       " {'_index': 'news_category_detection',\n",
       "  '_id': '3MRGkoEBE8fvlEs2esV1',\n",
       "  '_score': 1.0,\n",
       "  '_source': {'category': 'POLITICS'}},\n",
       " {'_index': 'news_category_detection',\n",
       "  '_id': '3cRGkoEBE8fvlEs2esV1',\n",
       "  '_score': 1.0,\n",
       "  '_source': {'category': 'POLITICS'}},\n",
       " {'_index': 'news_category_detection',\n",
       "  '_id': '4MRGkoEBE8fvlEs2esV1',\n",
       "  '_score': 1.0,\n",
       "  '_source': {'category': 'BLACK VOICES'}},\n",
       " {'_index': 'news_category_detection',\n",
       "  '_id': '5cRGkoEBE8fvlEs2esV1',\n",
       "  '_score': 1.0,\n",
       "  '_source': {'category': 'POLITICS'}},\n",
       " {'_index': 'news_category_detection',\n",
       "  '_id': '58RGkoEBE8fvlEs2esV1',\n",
       "  '_score': 1.0,\n",
       "  '_source': {'category': 'POLITICS'}},\n",
       " {'_index': 'news_category_detection',\n",
       "  '_id': '6cRGkoEBE8fvlEs2esV1',\n",
       "  '_score': 1.0,\n",
       "  '_source': {'category': 'BLACK VOICES'}},\n",
       " {'_index': 'news_category_detection',\n",
       "  '_id': '7MRGkoEBE8fvlEs2esV1',\n",
       "  '_score': 1.0,\n",
       "  '_source': {'category': 'QUEER VOICES'}},\n",
       " {'_index': 'news_category_detection',\n",
       "  '_id': '7cRGkoEBE8fvlEs2esV1',\n",
       "  '_score': 1.0,\n",
       "  '_source': {'category': 'CRIME'}},\n",
       " {'_index': 'news_category_detection',\n",
       "  '_id': '8MRGkoEBE8fvlEs2esV1',\n",
       "  '_score': 1.0,\n",
       "  '_source': {'category': 'WORLD NEWS'}},\n",
       " {'_index': 'news_category_detection',\n",
       "  '_id': '8sRGkoEBE8fvlEs2esV1',\n",
       "  '_score': 1.0,\n",
       "  '_source': {'category': 'GREEN'}},\n",
       " {'_index': 'news_category_detection',\n",
       "  '_id': '88RGkoEBE8fvlEs2esV1',\n",
       "  '_score': 1.0,\n",
       "  '_source': {'category': 'WOMEN'}},\n",
       " {'_index': 'news_category_detection',\n",
       "  '_id': '9cRGkoEBE8fvlEs2esV1',\n",
       "  '_score': 1.0,\n",
       "  '_source': {'category': 'POLITICS'}},\n",
       " {'_index': 'news_category_detection',\n",
       "  '_id': '9sRGkoEBE8fvlEs2esV1',\n",
       "  '_score': 1.0,\n",
       "  '_source': {'category': 'MEDIA'}},\n",
       " {'_index': 'news_category_detection',\n",
       "  '_id': '_8RGkoEBE8fvlEs2esV1',\n",
       "  '_score': 1.0,\n",
       "  '_source': {'category': 'QUEER VOICES'}},\n",
       " {'_index': 'news_category_detection',\n",
       "  '_id': 'AMRGkoEBE8fvlEs2esZ1',\n",
       "  '_score': 1.0,\n",
       "  '_source': {'category': 'POLITICS'}},\n",
       " {'_index': 'news_category_detection',\n",
       "  '_id': 'BsRGkoEBE8fvlEs2esZ1',\n",
       "  '_score': 1.0,\n",
       "  '_source': {'category': 'ENTERTAINMENT'}},\n",
       " {'_index': 'news_category_detection',\n",
       "  '_id': 'C8RGkoEBE8fvlEs2esZ1',\n",
       "  '_score': 1.0,\n",
       "  '_source': {'category': 'BLACK VOICES'}},\n",
       " {'_index': 'news_category_detection',\n",
       "  '_id': 'DcRGkoEBE8fvlEs2esZ1',\n",
       "  '_score': 1.0,\n",
       "  '_source': {'category': 'POLITICS'}},\n",
       " {'_index': 'news_category_detection',\n",
       "  '_id': 'D8RGkoEBE8fvlEs2esZ1',\n",
       "  '_score': 1.0,\n",
       "  '_source': {'category': 'POLITICS'}},\n",
       " {'_index': 'news_category_detection',\n",
       "  '_id': 'EcRGkoEBE8fvlEs2esZ1',\n",
       "  '_score': 1.0,\n",
       "  '_source': {'category': 'POLITICS'}},\n",
       " {'_index': 'news_category_detection',\n",
       "  '_id': 'EsRGkoEBE8fvlEs2esZ1',\n",
       "  '_score': 1.0,\n",
       "  '_source': {'category': 'POLITICS'}},\n",
       " {'_index': 'news_category_detection',\n",
       "  '_id': 'E8RGkoEBE8fvlEs2esZ1',\n",
       "  '_score': 1.0,\n",
       "  '_source': {'category': 'POLITICS'}},\n",
       " {'_index': 'news_category_detection',\n",
       "  '_id': 'FcRGkoEBE8fvlEs2esZ1',\n",
       "  '_score': 1.0,\n",
       "  '_source': {'category': 'STYLE'}},\n",
       " {'_index': 'news_category_detection',\n",
       "  '_id': 'GMRGkoEBE8fvlEs2esZ1',\n",
       "  '_score': 1.0,\n",
       "  '_source': {'category': 'QUEER VOICES'}},\n",
       " {'_index': 'news_category_detection',\n",
       "  '_id': 'GcRGkoEBE8fvlEs2esZ1',\n",
       "  '_score': 1.0,\n",
       "  '_source': {'category': 'ENTERTAINMENT'}},\n",
       " {'_index': 'news_category_detection',\n",
       "  '_id': 'GsRGkoEBE8fvlEs2esZ1',\n",
       "  '_score': 1.0,\n",
       "  '_source': {'category': 'POLITICS'}}]"
      ]
     },
     "execution_count": 348,
     "metadata": {},
     "output_type": "execute_result"
    }
   ],
   "source": [
    "test_docs_resp = client.search(index=INDEX_NAME, size=100, _source=['category'])\n",
    "test_docs_resp['hits']['hits']"
   ]
  },
  {
   "cell_type": "markdown",
   "id": "517b231c",
   "metadata": {},
   "source": [
    "Cria um dataframe para os documentos de teste"
   ]
  },
  {
   "cell_type": "code",
   "execution_count": 349,
   "id": "f3a3f2c1",
   "metadata": {},
   "outputs": [
    {
     "data": {
      "text/plain": [
       "POLITICS          30\n",
       "ENTERTAINMENT     15\n",
       "QUEER VOICES       7\n",
       "PARENTS            6\n",
       "HEALTHY LIVING     5\n",
       "TASTE              5\n",
       "BLACK VOICES       5\n",
       "WORLD NEWS         4\n",
       "GREEN              3\n",
       "IMPACT             3\n",
       "STYLE              3\n",
       "WOMEN              2\n",
       "LATINO VOICES      2\n",
       "COMEDY             2\n",
       "ARTS & CULTURE     2\n",
       "CRIME              2\n",
       "WEIRD NEWS         1\n",
       "TECH               1\n",
       "BUSINESS           1\n",
       "MEDIA              1\n",
       "Name: category, dtype: int64"
      ]
     },
     "execution_count": 349,
     "metadata": {},
     "output_type": "execute_result"
    }
   ],
   "source": [
    "test_docs = pd.DataFrame(\n",
    "        {\n",
    "            '_id': x['_id'],\n",
    "            **x['_source']\n",
    "        } for x in test_docs_resp['hits']['hits']\n",
    "    )\n",
    "test_docs['category'].value_counts()"
   ]
  },
  {
   "cell_type": "code",
   "execution_count": 350,
   "id": "28c26f29",
   "metadata": {},
   "outputs": [],
   "source": [
    "test_docs['predicted'] = test_docs['_id'].apply(classify_document)"
   ]
  },
  {
   "cell_type": "markdown",
   "id": "6155bf36",
   "metadata": {},
   "source": [
    "Aplica o metodo para classify_document que chama o metodo classify_with_score que executa o uma consulta more like this passando o\n",
    "id do documento no like. No metodo vai executar a consulta passando um id, receber os 10 vizinhos mais proximos, criar um dataframe com o resultado e agrupar pelas categorias somando os scores. "
   ]
  },
  {
   "cell_type": "code",
   "execution_count": 351,
   "id": "ee3308c7",
   "metadata": {},
   "outputs": [
    {
     "data": {
      "text/html": [
       "<div>\n",
       "<style scoped>\n",
       "    .dataframe tbody tr th:only-of-type {\n",
       "        vertical-align: middle;\n",
       "    }\n",
       "\n",
       "    .dataframe tbody tr th {\n",
       "        vertical-align: top;\n",
       "    }\n",
       "\n",
       "    .dataframe thead th {\n",
       "        text-align: right;\n",
       "    }\n",
       "</style>\n",
       "<table border=\"1\" class=\"dataframe\">\n",
       "  <thead>\n",
       "    <tr style=\"text-align: right;\">\n",
       "      <th></th>\n",
       "      <th>_score</th>\n",
       "    </tr>\n",
       "    <tr>\n",
       "      <th>category</th>\n",
       "      <th></th>\n",
       "    </tr>\n",
       "  </thead>\n",
       "  <tbody>\n",
       "    <tr>\n",
       "      <th>IMPACT</th>\n",
       "      <td>10.742830</td>\n",
       "    </tr>\n",
       "    <tr>\n",
       "      <th>RELIGION</th>\n",
       "      <td>28.399612</td>\n",
       "    </tr>\n",
       "    <tr>\n",
       "      <th>THE WORLDPOST</th>\n",
       "      <td>52.449592</td>\n",
       "    </tr>\n",
       "    <tr>\n",
       "      <th>WORLD NEWS</th>\n",
       "      <td>16.645844</td>\n",
       "    </tr>\n",
       "    <tr>\n",
       "      <th>WORLDPOST</th>\n",
       "      <td>27.815998</td>\n",
       "    </tr>\n",
       "  </tbody>\n",
       "</table>\n",
       "</div>"
      ],
      "text/plain": [
       "                  _score\n",
       "category                \n",
       "IMPACT         10.742830\n",
       "RELIGION       28.399612\n",
       "THE WORLDPOST  52.449592\n",
       "WORLD NEWS     16.645844\n",
       "WORLDPOST      27.815998"
      ]
     },
     "execution_count": 351,
     "metadata": {},
     "output_type": "execute_result"
    }
   ],
   "source": [
    "QUERY = {\n",
    "    'more_like_this': {\n",
    "        'fields': [\"headline^2\", \"short_description\"],\n",
    "        'like': [\n",
    "            {\n",
    "                '_index': INDEX_NAME,\n",
    "                '_id': 'JMRGkoEBE8fvlEs2esV1',\n",
    "            }\n",
    "        ],\n",
    "        'min_term_freq': 1,\n",
    "        'max_query_terms': 12,\n",
    "    }\n",
    "}\n",
    "resp = client.search(index=INDEX_NAME, query=QUERY, size=10)\n",
    "resp_df = pd.DataFrame({'_id': x['_id'], '_score': x['_score'], **x['_source']} for x in resp['hits']['hits'])\n",
    "resp_df.groupby('category').sum()"
   ]
  },
  {
   "cell_type": "markdown",
   "id": "3734916f",
   "metadata": {},
   "source": [
    "Um pequeno ajuste precisou ser feito no metodo, primeiro, ordenar a o dataframe pelo score, para que o registro com maior score fique primeiro.\n",
    "E posteriomente retornar a categoria com maior score."
   ]
  },
  {
   "cell_type": "code",
   "execution_count": 352,
   "id": "8920b73d",
   "metadata": {},
   "outputs": [
    {
     "data": {
      "text/html": [
       "<div>\n",
       "<style scoped>\n",
       "    .dataframe tbody tr th:only-of-type {\n",
       "        vertical-align: middle;\n",
       "    }\n",
       "\n",
       "    .dataframe tbody tr th {\n",
       "        vertical-align: top;\n",
       "    }\n",
       "\n",
       "    .dataframe thead th {\n",
       "        text-align: right;\n",
       "    }\n",
       "</style>\n",
       "<table border=\"1\" class=\"dataframe\">\n",
       "  <thead>\n",
       "    <tr style=\"text-align: right;\">\n",
       "      <th></th>\n",
       "      <th>_score</th>\n",
       "    </tr>\n",
       "    <tr>\n",
       "      <th>category</th>\n",
       "      <th></th>\n",
       "    </tr>\n",
       "  </thead>\n",
       "  <tbody>\n",
       "    <tr>\n",
       "      <th>THE WORLDPOST</th>\n",
       "      <td>52.449592</td>\n",
       "    </tr>\n",
       "    <tr>\n",
       "      <th>RELIGION</th>\n",
       "      <td>28.399612</td>\n",
       "    </tr>\n",
       "    <tr>\n",
       "      <th>WORLDPOST</th>\n",
       "      <td>27.815998</td>\n",
       "    </tr>\n",
       "    <tr>\n",
       "      <th>WORLD NEWS</th>\n",
       "      <td>16.645844</td>\n",
       "    </tr>\n",
       "    <tr>\n",
       "      <th>IMPACT</th>\n",
       "      <td>10.742830</td>\n",
       "    </tr>\n",
       "  </tbody>\n",
       "</table>\n",
       "</div>"
      ],
      "text/plain": [
       "                  _score\n",
       "category                \n",
       "THE WORLDPOST  52.449592\n",
       "RELIGION       28.399612\n",
       "WORLDPOST      27.815998\n",
       "WORLD NEWS     16.645844\n",
       "IMPACT         10.742830"
      ]
     },
     "execution_count": 352,
     "metadata": {},
     "output_type": "execute_result"
    }
   ],
   "source": [
    "resp_df.groupby('category').sum().sort_values('_score', ascending=False)"
   ]
  },
  {
   "cell_type": "markdown",
   "id": "ab5579cc",
   "metadata": {},
   "source": [
    "Com as classification_report calcular as metricas de resultados. Os resultados não foram bons, o dataframe possui muitas catgorias e as informações textuais são curtas para se definir."
   ]
  },
  {
   "cell_type": "code",
   "execution_count": null,
   "id": "739f1804",
   "metadata": {},
   "outputs": [],
   "source": [
    "Os resultados obtivos com a classificação foram muito baixos, mas porque o dataset possui muito categórias, que são muito semelhantes até\n",
    "como por exemplo: WORLD NEWS, THE WORLDPOST e THE WORLDPOST"
   ]
  },
  {
   "cell_type": "code",
   "execution_count": 353,
   "id": "94a79f3d",
   "metadata": {},
   "outputs": [
    {
     "name": "stdout",
     "output_type": "stream",
     "text": [
      "                precision    recall  f1-score   support\n",
      "\n",
      "          ARTS       0.00      0.00      0.00         0\n",
      "ARTS & CULTURE       0.00      0.00      0.00         2\n",
      "  BLACK VOICES       0.00      0.00      0.00         5\n",
      "      BUSINESS       0.00      0.00      0.00         1\n",
      "        COMEDY       0.67      1.00      0.80         2\n",
      "         CRIME       0.40      1.00      0.57         2\n",
      " ENTERTAINMENT       0.90      0.60      0.72        15\n",
      "   ENVIRONMENT       0.00      0.00      0.00         0\n",
      "  FOOD & DRINK       0.00      0.00      0.00         0\n",
      "         GREEN       0.00      0.00      0.00         3\n",
      "HEALTHY LIVING       1.00      0.20      0.33         5\n",
      " HOME & LIVING       0.00      0.00      0.00         0\n",
      "        IMPACT       0.00      0.00      0.00         3\n",
      " LATINO VOICES       0.50      0.50      0.50         2\n",
      "         MEDIA       1.00      1.00      1.00         1\n",
      "     PARENTING       0.00      0.00      0.00         0\n",
      "       PARENTS       1.00      0.33      0.50         6\n",
      "      POLITICS       0.68      0.70      0.69        30\n",
      "  QUEER VOICES       1.00      0.57      0.73         7\n",
      "      RELIGION       0.00      0.00      0.00         0\n",
      "        SPORTS       0.00      0.00      0.00         0\n",
      "         STYLE       1.00      0.33      0.50         3\n",
      "STYLE & BEAUTY       0.00      0.00      0.00         0\n",
      "         TASTE       1.00      0.20      0.33         5\n",
      "          TECH       0.00      0.00      0.00         1\n",
      "        TRAVEL       0.00      0.00      0.00         0\n",
      "    WEIRD NEWS       0.00      0.00      0.00         1\n",
      "      WELLNESS       0.00      0.00      0.00         0\n",
      "         WOMEN       0.67      1.00      0.80         2\n",
      "    WORLD NEWS       1.00      0.50      0.67         4\n",
      "\n",
      "      accuracy                           0.49       100\n",
      "     macro avg       0.36      0.26      0.27       100\n",
      "  weighted avg       0.69      0.49      0.53       100\n",
      "\n"
     ]
    },
    {
     "name": "stderr",
     "output_type": "stream",
     "text": [
      "C:\\ProgramData\\Anaconda3\\lib\\site-packages\\sklearn\\metrics\\_classification.py:1248: UndefinedMetricWarning: Precision and F-score are ill-defined and being set to 0.0 in labels with no predicted samples. Use `zero_division` parameter to control this behavior.\n",
      "  _warn_prf(average, modifier, msg_start, len(result))\n",
      "C:\\ProgramData\\Anaconda3\\lib\\site-packages\\sklearn\\metrics\\_classification.py:1248: UndefinedMetricWarning: Recall and F-score are ill-defined and being set to 0.0 in labels with no true samples. Use `zero_division` parameter to control this behavior.\n",
      "  _warn_prf(average, modifier, msg_start, len(result))\n",
      "C:\\ProgramData\\Anaconda3\\lib\\site-packages\\sklearn\\metrics\\_classification.py:1248: UndefinedMetricWarning: Precision and F-score are ill-defined and being set to 0.0 in labels with no predicted samples. Use `zero_division` parameter to control this behavior.\n",
      "  _warn_prf(average, modifier, msg_start, len(result))\n",
      "C:\\ProgramData\\Anaconda3\\lib\\site-packages\\sklearn\\metrics\\_classification.py:1248: UndefinedMetricWarning: Recall and F-score are ill-defined and being set to 0.0 in labels with no true samples. Use `zero_division` parameter to control this behavior.\n",
      "  _warn_prf(average, modifier, msg_start, len(result))\n",
      "C:\\ProgramData\\Anaconda3\\lib\\site-packages\\sklearn\\metrics\\_classification.py:1248: UndefinedMetricWarning: Precision and F-score are ill-defined and being set to 0.0 in labels with no predicted samples. Use `zero_division` parameter to control this behavior.\n",
      "  _warn_prf(average, modifier, msg_start, len(result))\n",
      "C:\\ProgramData\\Anaconda3\\lib\\site-packages\\sklearn\\metrics\\_classification.py:1248: UndefinedMetricWarning: Recall and F-score are ill-defined and being set to 0.0 in labels with no true samples. Use `zero_division` parameter to control this behavior.\n",
      "  _warn_prf(average, modifier, msg_start, len(result))\n"
     ]
    }
   ],
   "source": [
    "from sklearn.metrics import classification_report\n",
    "print(\n",
    "    classification_report(\n",
    "        test_docs['category'],\n",
    "        test_docs['predicted']\n",
    "    )\n",
    ")"
   ]
  },
  {
   "cell_type": "markdown",
   "id": "dd40e86c",
   "metadata": {},
   "source": [
    "### 4.2 Problema Observado"
   ]
  },
  {
   "cell_type": "markdown",
   "id": "b2a7013e",
   "metadata": {},
   "source": [
    "Também existe um problema nesse classificador, da forma em que esta. Existe casos em que a consulta não retorna nenhum hit, dessa\n",
    "forma o metodo de classificação retorna uma exeção."
   ]
  },
  {
   "cell_type": "code",
   "execution_count": 323,
   "id": "f4bf6c12",
   "metadata": {},
   "outputs": [],
   "source": [
    "\n",
    "def ajusta_retorno(resp):\n",
    "    \n",
    "    resp_df = pd.DataFrame(\n",
    "                {\n",
    "                    '_id': x['_id'],\n",
    "                    '_score': x['_score'],\n",
    "                    **x['_source']\n",
    "                } for x in resp['hits']['hits']\n",
    "            )\n",
    "    return resp_df.groupby('category').sum().sort_values('_score', ascending=False).index[0]\n",
    "\n",
    "\n",
    "def busca_outros_parametros(doc, size=10):\n",
    "    #like= [doc['headline'], doc['short_description']] \n",
    "    like= {\n",
    "         '_index': INDEX_NAME,\n",
    "         '_id': doc['_id']\n",
    "            }\n",
    "    query = {\n",
    "            'more_like_this': {\n",
    "            'fields': ['short_description'],\n",
    "            'like':like,\n",
    "            'minimum_should_match': -100,\n",
    "            'min_term_freq': 1,\n",
    "            'max_query_terms': 12,\n",
    "        }\n",
    "        }\n",
    "    resp = client.search(index=INDEX_NAME, query=query, size=size)\n",
    "    if(resp['hits']['total']['value']>0):\n",
    "        print(resp['hits']['total']['value'])\n",
    "        return ajusta_retorno(resp)\n",
    "    else:\n",
    "        return outra_busca(doc)\n",
    "\n",
    "    \n",
    "def outra_busca(doc):\n",
    "    print(doc['_id'])\n",
    "    \n",
    "\n",
    "def classify_with_score(doc, size=10):\n",
    "    #print(doc)\n",
    "    like= {\n",
    "         '_index': INDEX_NAME,\n",
    "         '_id': doc['_id']\n",
    "            }\n",
    "    \n",
    "    query = {\n",
    "        'more_like_this': {\n",
    "            'fields': [\"headline\"],\n",
    "            'minimum_should_match': -100,\n",
    "            'like':like,\n",
    "            'min_term_freq': 1,\n",
    "            'max_query_terms': 12,\n",
    "        }\n",
    "    }\n",
    "    resp = client.search(index=INDEX_NAME, query=query, size=size)\n",
    "    if(resp['hits']['total']['value']>0):\n",
    "        return ajusta_retorno(resp)\n",
    "        \n",
    "    else:\n",
    "        return busca_outros_parametros(doc)\n",
    "    "
   ]
  },
  {
   "cell_type": "code",
   "execution_count": 324,
   "id": "03a317de",
   "metadata": {},
   "outputs": [
    {
     "name": "stdout",
     "output_type": "stream",
     "text": [
      "4sRGkoEBE8fvlEs2gcqA\n",
      "NcRGkoEBE8fvlEs2iOK7\n"
     ]
    }
   ],
   "source": [
    "test_docs_resp = client.search(index=INDEX_NAME, size=5000, _source=['category', 'headline', 'short_description', 'authors'])\n",
    "test_docs = pd.DataFrame({'_id': x['_id'], **x['_source']} for x in test_docs_resp['hits']['hits'])\n",
    "test_docs['predicted']=test_docs.apply(classify_with_score, axis=1)\n",
    "#print(classification_report(test_docs['category'],test_docs['predicted']))\n"
   ]
  },
  {
   "cell_type": "code",
   "execution_count": 322,
   "id": "a765ea2a",
   "metadata": {},
   "outputs": [
    {
     "ename": "TypeError",
     "evalue": "'<' not supported between instances of 'NoneType' and 'str'",
     "output_type": "error",
     "traceback": [
      "\u001b[1;31m---------------------------------------------------------------------------\u001b[0m",
      "\u001b[1;31mTypeError\u001b[0m                                 Traceback (most recent call last)",
      "\u001b[1;32m~\\AppData\\Local\\Temp/ipykernel_20388/2581850734.py\u001b[0m in \u001b[0;36m<module>\u001b[1;34m\u001b[0m\n\u001b[0;32m      1\u001b[0m \u001b[1;32mfrom\u001b[0m \u001b[0msklearn\u001b[0m\u001b[1;33m.\u001b[0m\u001b[0mmetrics\u001b[0m \u001b[1;32mimport\u001b[0m \u001b[0mclassification_report\u001b[0m\u001b[1;33m\u001b[0m\u001b[1;33m\u001b[0m\u001b[0m\n\u001b[0;32m      2\u001b[0m print(\n\u001b[1;32m----> 3\u001b[1;33m     classification_report(\n\u001b[0m\u001b[0;32m      4\u001b[0m         \u001b[0mtest_docs\u001b[0m\u001b[1;33m[\u001b[0m\u001b[1;34m'category'\u001b[0m\u001b[1;33m]\u001b[0m\u001b[1;33m,\u001b[0m\u001b[1;33m\u001b[0m\u001b[1;33m\u001b[0m\u001b[0m\n\u001b[0;32m      5\u001b[0m         \u001b[0mtest_docs\u001b[0m\u001b[1;33m[\u001b[0m\u001b[1;34m'predicted'\u001b[0m\u001b[1;33m]\u001b[0m\u001b[1;33m\u001b[0m\u001b[1;33m\u001b[0m\u001b[0m\n",
      "\u001b[1;32mC:\\ProgramData\\Anaconda3\\lib\\site-packages\\sklearn\\utils\\validation.py\u001b[0m in \u001b[0;36minner_f\u001b[1;34m(*args, **kwargs)\u001b[0m\n\u001b[0;32m     61\u001b[0m             \u001b[0mextra_args\u001b[0m \u001b[1;33m=\u001b[0m \u001b[0mlen\u001b[0m\u001b[1;33m(\u001b[0m\u001b[0margs\u001b[0m\u001b[1;33m)\u001b[0m \u001b[1;33m-\u001b[0m \u001b[0mlen\u001b[0m\u001b[1;33m(\u001b[0m\u001b[0mall_args\u001b[0m\u001b[1;33m)\u001b[0m\u001b[1;33m\u001b[0m\u001b[1;33m\u001b[0m\u001b[0m\n\u001b[0;32m     62\u001b[0m             \u001b[1;32mif\u001b[0m \u001b[0mextra_args\u001b[0m \u001b[1;33m<=\u001b[0m \u001b[1;36m0\u001b[0m\u001b[1;33m:\u001b[0m\u001b[1;33m\u001b[0m\u001b[1;33m\u001b[0m\u001b[0m\n\u001b[1;32m---> 63\u001b[1;33m                 \u001b[1;32mreturn\u001b[0m \u001b[0mf\u001b[0m\u001b[1;33m(\u001b[0m\u001b[1;33m*\u001b[0m\u001b[0margs\u001b[0m\u001b[1;33m,\u001b[0m \u001b[1;33m**\u001b[0m\u001b[0mkwargs\u001b[0m\u001b[1;33m)\u001b[0m\u001b[1;33m\u001b[0m\u001b[1;33m\u001b[0m\u001b[0m\n\u001b[0m\u001b[0;32m     64\u001b[0m \u001b[1;33m\u001b[0m\u001b[0m\n\u001b[0;32m     65\u001b[0m             \u001b[1;31m# extra_args > 0\u001b[0m\u001b[1;33m\u001b[0m\u001b[1;33m\u001b[0m\u001b[0m\n",
      "\u001b[1;32mC:\\ProgramData\\Anaconda3\\lib\\site-packages\\sklearn\\metrics\\_classification.py\u001b[0m in \u001b[0;36mclassification_report\u001b[1;34m(y_true, y_pred, labels, target_names, sample_weight, digits, output_dict, zero_division)\u001b[0m\n\u001b[0;32m   1968\u001b[0m     \"\"\"\n\u001b[0;32m   1969\u001b[0m \u001b[1;33m\u001b[0m\u001b[0m\n\u001b[1;32m-> 1970\u001b[1;33m     \u001b[0my_type\u001b[0m\u001b[1;33m,\u001b[0m \u001b[0my_true\u001b[0m\u001b[1;33m,\u001b[0m \u001b[0my_pred\u001b[0m \u001b[1;33m=\u001b[0m \u001b[0m_check_targets\u001b[0m\u001b[1;33m(\u001b[0m\u001b[0my_true\u001b[0m\u001b[1;33m,\u001b[0m \u001b[0my_pred\u001b[0m\u001b[1;33m)\u001b[0m\u001b[1;33m\u001b[0m\u001b[1;33m\u001b[0m\u001b[0m\n\u001b[0m\u001b[0;32m   1971\u001b[0m \u001b[1;33m\u001b[0m\u001b[0m\n\u001b[0;32m   1972\u001b[0m     \u001b[1;32mif\u001b[0m \u001b[0mlabels\u001b[0m \u001b[1;32mis\u001b[0m \u001b[1;32mNone\u001b[0m\u001b[1;33m:\u001b[0m\u001b[1;33m\u001b[0m\u001b[1;33m\u001b[0m\u001b[0m\n",
      "\u001b[1;32mC:\\ProgramData\\Anaconda3\\lib\\site-packages\\sklearn\\metrics\\_classification.py\u001b[0m in \u001b[0;36m_check_targets\u001b[1;34m(y_true, y_pred)\u001b[0m\n\u001b[0;32m     83\u001b[0m     \u001b[0mcheck_consistent_length\u001b[0m\u001b[1;33m(\u001b[0m\u001b[0my_true\u001b[0m\u001b[1;33m,\u001b[0m \u001b[0my_pred\u001b[0m\u001b[1;33m)\u001b[0m\u001b[1;33m\u001b[0m\u001b[1;33m\u001b[0m\u001b[0m\n\u001b[0;32m     84\u001b[0m     \u001b[0mtype_true\u001b[0m \u001b[1;33m=\u001b[0m \u001b[0mtype_of_target\u001b[0m\u001b[1;33m(\u001b[0m\u001b[0my_true\u001b[0m\u001b[1;33m)\u001b[0m\u001b[1;33m\u001b[0m\u001b[1;33m\u001b[0m\u001b[0m\n\u001b[1;32m---> 85\u001b[1;33m     \u001b[0mtype_pred\u001b[0m \u001b[1;33m=\u001b[0m \u001b[0mtype_of_target\u001b[0m\u001b[1;33m(\u001b[0m\u001b[0my_pred\u001b[0m\u001b[1;33m)\u001b[0m\u001b[1;33m\u001b[0m\u001b[1;33m\u001b[0m\u001b[0m\n\u001b[0m\u001b[0;32m     86\u001b[0m \u001b[1;33m\u001b[0m\u001b[0m\n\u001b[0;32m     87\u001b[0m     \u001b[0my_type\u001b[0m \u001b[1;33m=\u001b[0m \u001b[1;33m{\u001b[0m\u001b[0mtype_true\u001b[0m\u001b[1;33m,\u001b[0m \u001b[0mtype_pred\u001b[0m\u001b[1;33m}\u001b[0m\u001b[1;33m\u001b[0m\u001b[1;33m\u001b[0m\u001b[0m\n",
      "\u001b[1;32mC:\\ProgramData\\Anaconda3\\lib\\site-packages\\sklearn\\utils\\multiclass.py\u001b[0m in \u001b[0;36mtype_of_target\u001b[1;34m(y)\u001b[0m\n\u001b[0;32m    304\u001b[0m         \u001b[1;32mreturn\u001b[0m \u001b[1;34m'continuous'\u001b[0m \u001b[1;33m+\u001b[0m \u001b[0msuffix\u001b[0m\u001b[1;33m\u001b[0m\u001b[1;33m\u001b[0m\u001b[0m\n\u001b[0;32m    305\u001b[0m \u001b[1;33m\u001b[0m\u001b[0m\n\u001b[1;32m--> 306\u001b[1;33m     \u001b[1;32mif\u001b[0m \u001b[1;33m(\u001b[0m\u001b[0mlen\u001b[0m\u001b[1;33m(\u001b[0m\u001b[0mnp\u001b[0m\u001b[1;33m.\u001b[0m\u001b[0munique\u001b[0m\u001b[1;33m(\u001b[0m\u001b[0my\u001b[0m\u001b[1;33m)\u001b[0m\u001b[1;33m)\u001b[0m \u001b[1;33m>\u001b[0m \u001b[1;36m2\u001b[0m\u001b[1;33m)\u001b[0m \u001b[1;32mor\u001b[0m \u001b[1;33m(\u001b[0m\u001b[0my\u001b[0m\u001b[1;33m.\u001b[0m\u001b[0mndim\u001b[0m \u001b[1;33m>=\u001b[0m \u001b[1;36m2\u001b[0m \u001b[1;32mand\u001b[0m \u001b[0mlen\u001b[0m\u001b[1;33m(\u001b[0m\u001b[0my\u001b[0m\u001b[1;33m[\u001b[0m\u001b[1;36m0\u001b[0m\u001b[1;33m]\u001b[0m\u001b[1;33m)\u001b[0m \u001b[1;33m>\u001b[0m \u001b[1;36m1\u001b[0m\u001b[1;33m)\u001b[0m\u001b[1;33m:\u001b[0m\u001b[1;33m\u001b[0m\u001b[1;33m\u001b[0m\u001b[0m\n\u001b[0m\u001b[0;32m    307\u001b[0m         \u001b[1;32mreturn\u001b[0m \u001b[1;34m'multiclass'\u001b[0m \u001b[1;33m+\u001b[0m \u001b[0msuffix\u001b[0m  \u001b[1;31m# [1, 2, 3] or [[1., 2., 3]] or [[1, 2]]\u001b[0m\u001b[1;33m\u001b[0m\u001b[1;33m\u001b[0m\u001b[0m\n\u001b[0;32m    308\u001b[0m     \u001b[1;32melse\u001b[0m\u001b[1;33m:\u001b[0m\u001b[1;33m\u001b[0m\u001b[1;33m\u001b[0m\u001b[0m\n",
      "\u001b[1;32m<__array_function__ internals>\u001b[0m in \u001b[0;36munique\u001b[1;34m(*args, **kwargs)\u001b[0m\n",
      "\u001b[1;32mC:\\ProgramData\\Anaconda3\\lib\\site-packages\\numpy\\lib\\arraysetops.py\u001b[0m in \u001b[0;36munique\u001b[1;34m(ar, return_index, return_inverse, return_counts, axis)\u001b[0m\n\u001b[0;32m    270\u001b[0m     \u001b[0mar\u001b[0m \u001b[1;33m=\u001b[0m \u001b[0mnp\u001b[0m\u001b[1;33m.\u001b[0m\u001b[0masanyarray\u001b[0m\u001b[1;33m(\u001b[0m\u001b[0mar\u001b[0m\u001b[1;33m)\u001b[0m\u001b[1;33m\u001b[0m\u001b[1;33m\u001b[0m\u001b[0m\n\u001b[0;32m    271\u001b[0m     \u001b[1;32mif\u001b[0m \u001b[0maxis\u001b[0m \u001b[1;32mis\u001b[0m \u001b[1;32mNone\u001b[0m\u001b[1;33m:\u001b[0m\u001b[1;33m\u001b[0m\u001b[1;33m\u001b[0m\u001b[0m\n\u001b[1;32m--> 272\u001b[1;33m         \u001b[0mret\u001b[0m \u001b[1;33m=\u001b[0m \u001b[0m_unique1d\u001b[0m\u001b[1;33m(\u001b[0m\u001b[0mar\u001b[0m\u001b[1;33m,\u001b[0m \u001b[0mreturn_index\u001b[0m\u001b[1;33m,\u001b[0m \u001b[0mreturn_inverse\u001b[0m\u001b[1;33m,\u001b[0m \u001b[0mreturn_counts\u001b[0m\u001b[1;33m)\u001b[0m\u001b[1;33m\u001b[0m\u001b[1;33m\u001b[0m\u001b[0m\n\u001b[0m\u001b[0;32m    273\u001b[0m         \u001b[1;32mreturn\u001b[0m \u001b[0m_unpack_tuple\u001b[0m\u001b[1;33m(\u001b[0m\u001b[0mret\u001b[0m\u001b[1;33m)\u001b[0m\u001b[1;33m\u001b[0m\u001b[1;33m\u001b[0m\u001b[0m\n\u001b[0;32m    274\u001b[0m \u001b[1;33m\u001b[0m\u001b[0m\n",
      "\u001b[1;32mC:\\ProgramData\\Anaconda3\\lib\\site-packages\\numpy\\lib\\arraysetops.py\u001b[0m in \u001b[0;36m_unique1d\u001b[1;34m(ar, return_index, return_inverse, return_counts)\u001b[0m\n\u001b[0;32m    331\u001b[0m         \u001b[0maux\u001b[0m \u001b[1;33m=\u001b[0m \u001b[0mar\u001b[0m\u001b[1;33m[\u001b[0m\u001b[0mperm\u001b[0m\u001b[1;33m]\u001b[0m\u001b[1;33m\u001b[0m\u001b[1;33m\u001b[0m\u001b[0m\n\u001b[0;32m    332\u001b[0m     \u001b[1;32melse\u001b[0m\u001b[1;33m:\u001b[0m\u001b[1;33m\u001b[0m\u001b[1;33m\u001b[0m\u001b[0m\n\u001b[1;32m--> 333\u001b[1;33m         \u001b[0mar\u001b[0m\u001b[1;33m.\u001b[0m\u001b[0msort\u001b[0m\u001b[1;33m(\u001b[0m\u001b[1;33m)\u001b[0m\u001b[1;33m\u001b[0m\u001b[1;33m\u001b[0m\u001b[0m\n\u001b[0m\u001b[0;32m    334\u001b[0m         \u001b[0maux\u001b[0m \u001b[1;33m=\u001b[0m \u001b[0mar\u001b[0m\u001b[1;33m\u001b[0m\u001b[1;33m\u001b[0m\u001b[0m\n\u001b[0;32m    335\u001b[0m     \u001b[0mmask\u001b[0m \u001b[1;33m=\u001b[0m \u001b[0mnp\u001b[0m\u001b[1;33m.\u001b[0m\u001b[0mempty\u001b[0m\u001b[1;33m(\u001b[0m\u001b[0maux\u001b[0m\u001b[1;33m.\u001b[0m\u001b[0mshape\u001b[0m\u001b[1;33m,\u001b[0m \u001b[0mdtype\u001b[0m\u001b[1;33m=\u001b[0m\u001b[0mnp\u001b[0m\u001b[1;33m.\u001b[0m\u001b[0mbool_\u001b[0m\u001b[1;33m)\u001b[0m\u001b[1;33m\u001b[0m\u001b[1;33m\u001b[0m\u001b[0m\n",
      "\u001b[1;31mTypeError\u001b[0m: '<' not supported between instances of 'NoneType' and 'str'"
     ]
    }
   ],
   "source": [
    "from sklearn.metrics import classification_report\n",
    "print(\n",
    "    classification_report(\n",
    "        test_docs['category'],\n",
    "        test_docs['predicted']\n",
    "    )\n",
    ")"
   ]
  },
  {
   "cell_type": "code",
   "execution_count": null,
   "id": "e821272a",
   "metadata": {},
   "outputs": [],
   "source": []
  },
  {
   "cell_type": "code",
   "execution_count": null,
   "id": "539df656",
   "metadata": {},
   "outputs": [],
   "source": []
  },
  {
   "cell_type": "code",
   "execution_count": null,
   "id": "cbc88512",
   "metadata": {},
   "outputs": [],
   "source": []
  },
  {
   "cell_type": "code",
   "execution_count": 136,
   "id": "928571f2",
   "metadata": {},
   "outputs": [
    {
     "data": {
      "text/plain": [
       "{'_index': 'news_category_detection',\n",
       " '_id': 'a8RGkoEBE8fvlEs2g9Fq',\n",
       " '_score': 1.0,\n",
       " '_source': {'category': 'POLITICS',\n",
       "  'headline': \"Don't Believe The Hype: Obama's Limited Restrictions On Military Equipment For Cops Were Reasonable\",\n",
       "  'authors': 'Roy L. Austin, Jr., ContributorFormer Deputy Assistant to President Obama for the Office of U...',\n",
       "  'link': 'https://www.huffingtonpost.com/entry/dont-believe-the-hype-obamas-limited-restrictions-on-military-equipment-for-cops-were-reasonable_us_59a4621ee4b0821444c52f27',\n",
       "  'short_description': 'Reversing the policy is yet another Trump administration decision based on alternative facts.',\n",
       "  'date': '2017-08-28T00:00:00'}}"
      ]
     },
     "execution_count": 136,
     "metadata": {},
     "output_type": "execute_result"
    }
   ],
   "source": [
    "QUERY = {\n",
    "    'term': {\n",
    "        '_id': 'a8RGkoEBE8fvlEs2g9Fq'\n",
    "    }\n",
    "}\n",
    "\n",
    "resp = client.search(index=INDEX_NAME, query=QUERY, size=1)\n",
    "doc=resp['hits']['hits'][0]\n",
    "doc"
   ]
  },
  {
   "cell_type": "code",
   "execution_count": 134,
   "id": "1c2eff49",
   "metadata": {},
   "outputs": [
    {
     "ename": "KeyError",
     "evalue": "'headline'",
     "output_type": "error",
     "traceback": [
      "\u001b[1;31m---------------------------------------------------------------------------\u001b[0m",
      "\u001b[1;31mKeyError\u001b[0m                                  Traceback (most recent call last)",
      "\u001b[1;32m~\\AppData\\Local\\Temp/ipykernel_20388/388243731.py\u001b[0m in \u001b[0;36m<module>\u001b[1;34m\u001b[0m\n\u001b[1;32m----> 1\u001b[1;33m \u001b[0mclassify_with_score\u001b[0m\u001b[1;33m(\u001b[0m\u001b[0mdoc\u001b[0m\u001b[1;33m)\u001b[0m\u001b[1;33m\u001b[0m\u001b[1;33m\u001b[0m\u001b[0m\n\u001b[0m",
      "\u001b[1;32m~\\AppData\\Local\\Temp/ipykernel_20388/2344716310.py\u001b[0m in \u001b[0;36mclassify_with_score\u001b[1;34m(doc, size)\u001b[0m\n\u001b[0;32m     54\u001b[0m \u001b[1;33m\u001b[0m\u001b[0m\n\u001b[0;32m     55\u001b[0m     \u001b[1;32melse\u001b[0m\u001b[1;33m:\u001b[0m\u001b[1;33m\u001b[0m\u001b[1;33m\u001b[0m\u001b[0m\n\u001b[1;32m---> 56\u001b[1;33m         \u001b[1;32mreturn\u001b[0m \u001b[0mbusca_outros_parametros\u001b[0m\u001b[1;33m(\u001b[0m\u001b[0mdoc\u001b[0m\u001b[1;33m)\u001b[0m\u001b[1;33m\u001b[0m\u001b[1;33m\u001b[0m\u001b[0m\n\u001b[0m\u001b[0;32m     57\u001b[0m \u001b[1;33m\u001b[0m\u001b[0m\n",
      "\u001b[1;32m~\\AppData\\Local\\Temp/ipykernel_20388/2344716310.py\u001b[0m in \u001b[0;36mbusca_outros_parametros\u001b[1;34m(doc, size)\u001b[0m\n\u001b[0;32m     12\u001b[0m \u001b[1;33m\u001b[0m\u001b[0m\n\u001b[0;32m     13\u001b[0m \u001b[1;32mdef\u001b[0m \u001b[0mbusca_outros_parametros\u001b[0m\u001b[1;33m(\u001b[0m\u001b[0mdoc\u001b[0m\u001b[1;33m,\u001b[0m \u001b[0msize\u001b[0m\u001b[1;33m=\u001b[0m\u001b[1;36m10\u001b[0m\u001b[1;33m)\u001b[0m\u001b[1;33m:\u001b[0m\u001b[1;33m\u001b[0m\u001b[1;33m\u001b[0m\u001b[0m\n\u001b[1;32m---> 14\u001b[1;33m     \u001b[0mlike\u001b[0m\u001b[1;33m=\u001b[0m \u001b[1;33m[\u001b[0m\u001b[0mdoc\u001b[0m\u001b[1;33m[\u001b[0m\u001b[1;34m'headline'\u001b[0m\u001b[1;33m]\u001b[0m\u001b[1;33m,\u001b[0m \u001b[0mdoc\u001b[0m\u001b[1;33m[\u001b[0m\u001b[1;34m'short_description'\u001b[0m\u001b[1;33m]\u001b[0m\u001b[1;33m,\u001b[0m \u001b[0mdoc\u001b[0m\u001b[1;33m[\u001b[0m\u001b[1;34m'authors'\u001b[0m\u001b[1;33m]\u001b[0m\u001b[1;33m]\u001b[0m\u001b[1;33m\u001b[0m\u001b[1;33m\u001b[0m\u001b[0m\n\u001b[0m\u001b[0;32m     15\u001b[0m     query = {\n\u001b[0;32m     16\u001b[0m             'more_like_this': {\n",
      "\u001b[1;31mKeyError\u001b[0m: 'headline'"
     ]
    }
   ],
   "source": [
    "classify_with_score(doc)"
   ]
  },
  {
   "cell_type": "code",
   "execution_count": 673,
   "id": "70dd022b",
   "metadata": {},
   "outputs": [
    {
     "data": {
      "text/plain": [
       "1"
      ]
     },
     "execution_count": 673,
     "metadata": {},
     "output_type": "execute_result"
    }
   ],
   "source": [
    "headline= \"Asian-American Pastor's Arrest In China Comes Amid Crackdown On Unsanctioned House Churches\"\n",
    "short_description= 'Experts say John Cao’s arrest and subsequent sentencing could be part of the ruling Communist Party’s attempts to exert authority over independent Christian churches.'\n",
    "authors= 'Carol Kuruvilla'\n",
    "\n",
    "like = [\n",
    "   # {\n",
    "       # '_index': INDEX_NAME,\n",
    "        #'_id': '57YMjIEBE8fvlEs27Muu',\n",
    "    #}, \n",
    "    headline,\n",
    "    short_description, \n",
    "    authors\n",
    "]\n",
    "#classify_with_score(like, size=1)\n",
    "\n",
    "query = {\n",
    "        'more_like_this': {\n",
    "            'fields': [\"headline\"],\n",
    "            'like':like,\n",
    "            'min_term_freq': 1,\n",
    "            'max_query_terms': 12,\n",
    "        }\n",
    "    }\n",
    "resp = client.search(index=INDEX_NAME, query=query, size=100)\n",
    "resp['hits']['total']['value']\n"
   ]
  },
  {
   "cell_type": "code",
   "execution_count": 137,
   "id": "5cca62a6",
   "metadata": {},
   "outputs": [
    {
     "data": {
      "text/plain": [
       "26"
      ]
     },
     "execution_count": 137,
     "metadata": {},
     "output_type": "execute_result"
    }
   ],
   "source": [
    "like = [\n",
    "    {\n",
    "        '_index': INDEX_NAME,\n",
    "        '_id': 'a8RGkoEBE8fvlEs2g9Fq',\n",
    "    }\n",
    "]\n",
    "#classify_with_score(like, size=1)\n",
    "\n",
    "query = {\n",
    "        'more_like_this': {\n",
    "            'fields': [\"headline\"],\n",
    "            'like':like,\n",
    "            'min_term_freq': 1,\n",
    "            'max_query_terms': 12,\n",
    "        }\n",
    "    }\n",
    "resp = client.search(index=INDEX_NAME, query=query, size=10)\n",
    "resp['hits']['total']['value']"
   ]
  },
  {
   "cell_type": "code",
   "execution_count": 320,
   "id": "3f19b113",
   "metadata": {},
   "outputs": [],
   "source": [
    "def classify_with_score_teste(doc, size=10):\n",
    "    print(doc['_id'])\n",
    "    like= {\n",
    "         '_index': INDEX_NAME,\n",
    "         '_id': doc['_id']\n",
    "            }\n",
    "    \n",
    "    query = {\n",
    "        'more_like_this': {\n",
    "            'fields': [\"headline\"],\n",
    "            'like':like,\n",
    "            'minimum_should_match': -100,\n",
    "            'min_term_freq': 1,\n",
    "            'max_query_terms': 12,\n",
    "        }\n",
    "    }\n",
    "    resp = client.search(index=INDEX_NAME, query=query, size=size)\n",
    "    #print(resp['hits'])\n",
    "    if(resp['hits']['total']['value']>0):\n",
    "        print(resp['hits']['total']['value'])\n",
    "        return ajusta_retorno(resp)\n",
    "    else:\n",
    "        return busca_outros_parametros(doc)"
   ]
  },
  {
   "cell_type": "code",
   "execution_count": 270,
   "id": "5029bb5d",
   "metadata": {},
   "outputs": [
    {
     "name": "stdout",
     "output_type": "stream",
     "text": [
      "557\n"
     ]
    },
    {
     "data": {
      "text/plain": [
       "'POLITICS'"
      ]
     },
     "execution_count": 270,
     "metadata": {},
     "output_type": "execute_result"
    }
   ],
   "source": [
    "classify_with_score_teste(doc)"
   ]
  },
  {
   "cell_type": "code",
   "execution_count": 556,
   "id": "1f8745da",
   "metadata": {},
   "outputs": [],
   "source": [
    "from sklearn.metrics import classification_report"
   ]
  },
  {
   "cell_type": "code",
   "execution_count": 557,
   "id": "59778551",
   "metadata": {},
   "outputs": [
    {
     "name": "stdout",
     "output_type": "stream",
     "text": [
      "                precision    recall  f1-score   support\n",
      "\n",
      "ARTS & CULTURE       0.00      0.00      0.00         9\n",
      "  BLACK VOICES       0.45      0.28      0.35        32\n",
      "      BUSINESS       0.33      0.36      0.35        11\n",
      "       COLLEGE       0.00      0.00      0.00         2\n",
      "        COMEDY       0.72      0.58      0.64        57\n",
      "         CRIME       0.56      0.50      0.53        18\n",
      "       DIVORCE       0.00      0.00      0.00         0\n",
      "     EDUCATION       0.00      0.00      0.00         3\n",
      " ENTERTAINMENT       0.66      0.65      0.65       171\n",
      "         FIFTY       0.00      0.00      0.00         0\n",
      "  FOOD & DRINK       0.00      0.00      0.00         0\n",
      "     GOOD NEWS       0.00      0.00      0.00         0\n",
      "         GREEN       0.64      0.33      0.44        27\n",
      "HEALTHY LIVING       0.42      0.25      0.31        20\n",
      " HOME & LIVING       0.00      0.00      0.00         0\n",
      "        IMPACT       0.25      0.11      0.15         9\n",
      " LATINO VOICES       0.67      0.14      0.24        14\n",
      "         MEDIA       0.55      0.36      0.44        33\n",
      "         MONEY       0.00      0.00      0.00         0\n",
      "     PARENTING       0.00      0.00      0.00         0\n",
      "       PARENTS       0.43      0.33      0.38        18\n",
      "      POLITICS       0.75      0.84      0.79       339\n",
      "  QUEER VOICES       0.62      0.53      0.57        45\n",
      "      RELIGION       0.33      0.50      0.40         6\n",
      "       SCIENCE       0.00      0.00      0.00         3\n",
      "        SPORTS       0.41      0.75      0.53        12\n",
      "         STYLE       0.30      0.14      0.19        22\n",
      "STYLE & BEAUTY       0.00      0.00      0.00         0\n",
      "         TASTE       1.00      0.07      0.13        14\n",
      "          TECH       0.50      0.12      0.20         8\n",
      " THE WORLDPOST       0.00      0.00      0.00         0\n",
      "        TRAVEL       0.09      0.50      0.15         4\n",
      "      WEDDINGS       0.00      0.00      0.00         0\n",
      "    WEIRD NEWS       0.27      0.12      0.17        25\n",
      "      WELLNESS       0.00      0.00      0.00         0\n",
      "         WOMEN       0.25      0.25      0.25        24\n",
      "    WORLD NEWS       0.76      0.18      0.29        74\n",
      "     WORLDPOST       0.00      0.00      0.00         0\n",
      "\n",
      "      accuracy                           0.55      1000\n",
      "     macro avg       0.29      0.21      0.21      1000\n",
      "  weighted avg       0.63      0.55      0.56      1000\n",
      "\n"
     ]
    },
    {
     "name": "stderr",
     "output_type": "stream",
     "text": [
      "C:\\ProgramData\\Anaconda3\\lib\\site-packages\\sklearn\\metrics\\_classification.py:1248: UndefinedMetricWarning: Precision and F-score are ill-defined and being set to 0.0 in labels with no predicted samples. Use `zero_division` parameter to control this behavior.\n",
      "  _warn_prf(average, modifier, msg_start, len(result))\n",
      "C:\\ProgramData\\Anaconda3\\lib\\site-packages\\sklearn\\metrics\\_classification.py:1248: UndefinedMetricWarning: Recall and F-score are ill-defined and being set to 0.0 in labels with no true samples. Use `zero_division` parameter to control this behavior.\n",
      "  _warn_prf(average, modifier, msg_start, len(result))\n",
      "C:\\ProgramData\\Anaconda3\\lib\\site-packages\\sklearn\\metrics\\_classification.py:1248: UndefinedMetricWarning: Precision and F-score are ill-defined and being set to 0.0 in labels with no predicted samples. Use `zero_division` parameter to control this behavior.\n",
      "  _warn_prf(average, modifier, msg_start, len(result))\n",
      "C:\\ProgramData\\Anaconda3\\lib\\site-packages\\sklearn\\metrics\\_classification.py:1248: UndefinedMetricWarning: Recall and F-score are ill-defined and being set to 0.0 in labels with no true samples. Use `zero_division` parameter to control this behavior.\n",
      "  _warn_prf(average, modifier, msg_start, len(result))\n",
      "C:\\ProgramData\\Anaconda3\\lib\\site-packages\\sklearn\\metrics\\_classification.py:1248: UndefinedMetricWarning: Precision and F-score are ill-defined and being set to 0.0 in labels with no predicted samples. Use `zero_division` parameter to control this behavior.\n",
      "  _warn_prf(average, modifier, msg_start, len(result))\n",
      "C:\\ProgramData\\Anaconda3\\lib\\site-packages\\sklearn\\metrics\\_classification.py:1248: UndefinedMetricWarning: Recall and F-score are ill-defined and being set to 0.0 in labels with no true samples. Use `zero_division` parameter to control this behavior.\n",
      "  _warn_prf(average, modifier, msg_start, len(result))\n"
     ]
    }
   ],
   "source": [
    "print(\n",
    "    classification_report(\n",
    "        test_docs['category'],\n",
    "        test_docs['predicted']\n",
    "    )\n",
    ")"
   ]
  },
  {
   "cell_type": "code",
   "execution_count": 104,
   "id": "b606f92c",
   "metadata": {},
   "outputs": [
    {
     "data": {
      "text/html": [
       "<div>\n",
       "<style scoped>\n",
       "    .dataframe tbody tr th:only-of-type {\n",
       "        vertical-align: middle;\n",
       "    }\n",
       "\n",
       "    .dataframe tbody tr th {\n",
       "        vertical-align: top;\n",
       "    }\n",
       "\n",
       "    .dataframe thead th {\n",
       "        text-align: right;\n",
       "    }\n",
       "</style>\n",
       "<table border=\"1\" class=\"dataframe\">\n",
       "  <thead>\n",
       "    <tr style=\"text-align: right;\">\n",
       "      <th></th>\n",
       "      <th>A</th>\n",
       "      <th>B</th>\n",
       "    </tr>\n",
       "  </thead>\n",
       "  <tbody>\n",
       "    <tr>\n",
       "      <th>0</th>\n",
       "      <td>4</td>\n",
       "      <td>9</td>\n",
       "    </tr>\n",
       "    <tr>\n",
       "      <th>1</th>\n",
       "      <td>4</td>\n",
       "      <td>9</td>\n",
       "    </tr>\n",
       "    <tr>\n",
       "      <th>2</th>\n",
       "      <td>4</td>\n",
       "      <td>9</td>\n",
       "    </tr>\n",
       "  </tbody>\n",
       "</table>\n",
       "</div>"
      ],
      "text/plain": [
       "   A  B\n",
       "0  4  9\n",
       "1  4  9\n",
       "2  4  9"
      ]
     },
     "execution_count": 104,
     "metadata": {},
     "output_type": "execute_result"
    }
   ],
   "source": [
    "df = pd.DataFrame([[4, 9]] * 3, columns=['A', 'B'])\n",
    "df"
   ]
  },
  {
   "cell_type": "code",
   "execution_count": 105,
   "id": "0dd81c2c",
   "metadata": {},
   "outputs": [
    {
     "data": {
      "text/html": [
       "<div>\n",
       "<style scoped>\n",
       "    .dataframe tbody tr th:only-of-type {\n",
       "        vertical-align: middle;\n",
       "    }\n",
       "\n",
       "    .dataframe tbody tr th {\n",
       "        vertical-align: top;\n",
       "    }\n",
       "\n",
       "    .dataframe thead th {\n",
       "        text-align: right;\n",
       "    }\n",
       "</style>\n",
       "<table border=\"1\" class=\"dataframe\">\n",
       "  <thead>\n",
       "    <tr style=\"text-align: right;\">\n",
       "      <th></th>\n",
       "      <th>A</th>\n",
       "      <th>B</th>\n",
       "    </tr>\n",
       "  </thead>\n",
       "  <tbody>\n",
       "    <tr>\n",
       "      <th>0</th>\n",
       "      <td>4</td>\n",
       "      <td>9</td>\n",
       "    </tr>\n",
       "    <tr>\n",
       "      <th>1</th>\n",
       "      <td>4</td>\n",
       "      <td>9</td>\n",
       "    </tr>\n",
       "    <tr>\n",
       "      <th>2</th>\n",
       "      <td>4</td>\n",
       "      <td>9</td>\n",
       "    </tr>\n",
       "  </tbody>\n",
       "</table>\n",
       "</div>"
      ],
      "text/plain": [
       "   A  B\n",
       "0  4  9\n",
       "1  4  9\n",
       "2  4  9"
      ]
     },
     "execution_count": 105,
     "metadata": {},
     "output_type": "execute_result"
    }
   ],
   "source": [
    "df.apply(lambda x: [1, 2], axis=1, result_type='expand')\n",
    "df"
   ]
  },
  {
   "cell_type": "code",
   "execution_count": null,
   "id": "dc2c99c1",
   "metadata": {},
   "outputs": [],
   "source": [
    "psRGkoEBE8fvlEs2esV1"
   ]
  },
  {
   "cell_type": "code",
   "execution_count": 317,
   "id": "23c0052f",
   "metadata": {},
   "outputs": [
    {
     "data": {
      "text/plain": [
       "ObjectApiResponse({'took': 5, 'timed_out': False, '_shards': {'total': 3, 'successful': 3, 'skipped': 0, 'failed': 0}, 'hits': {'total': {'value': 2019, 'relation': 'eq'}, 'max_score': 19.954424, 'hits': [{'_index': 'news_category_detection', '_id': 'C8VGkoEBE8fvlEs2rU3T', '_score': 19.954424, '_source': {'category': 'COMEDY', 'headline': 'Martin Shkreli Will Need Ointment After This Sick Burn From Colbert', 'authors': 'Andy McDonald', 'link': 'https://www.huffingtonpost.com/entry/martin-shkreli-will-need-ointment-after-this-sick-burn-from-colbert_us_57c452d5e4b09cd22d9179d6', 'short_description': \"Hopefully no one's inflated the price of ointment for you, Martin.\", 'date': '2016-08-29T00:00:00'}}, {'_index': 'news_category_detection', '_id': 'a8VGkoEBE8fvlEs2nha6', '_score': 18.226522, '_source': {'category': 'COMEDY', 'headline': 'Stephen Colbert Is Sick Of Donald Trump Stealing His Act', 'authors': 'Lee Moran', 'link': 'https://www.huffingtonpost.com/entry/stephen-colbert-trump-on-notice_us_58945dace4b0406131364338', 'short_description': 'He claims the president keeps ripping off his ideas.', 'date': '2017-02-03T00:00:00'}}, {'_index': 'news_category_detection', '_id': 'HsVGkoEBE8fvlEs2tWmB', '_score': 17.836643, '_source': {'category': 'SPORTS', 'headline': \"Cam Newton Officially Declares 'The Dab' Dead\", 'authors': 'Justin Block', 'link': 'https://www.huffingtonpost.com/entry/cam-newton-officially-declares-the-dab-dead_us_57598b95e4b0ced23ca72ea1', 'short_description': 'R.I.P.', 'date': '2016-06-09T00:00:00'}}, {'_index': 'news_category_detection', '_id': 'j8RGkoEBE8fvlEs2f8me', '_score': 17.340557, '_source': {'category': 'COMEDY', 'headline': \"Stephen Colbert To North Korea: 'Knock It Off' With The Sick Trump Burns\", 'authors': 'Lee Moran', 'link': 'https://www.huffingtonpost.com/entry/stephen-colbert-kim-jong-un-donald-trump_us_59c61adce4b0cdc773318995', 'short_description': '\"I’m not gonna stand here as an American and let somebody from another country talk smack about our president.\"', 'date': '2017-09-23T00:00:00'}}, {'_index': 'news_category_detection', '_id': '_MdHkoEBE8fvlEs2OUN6', '_score': 17.004688, '_source': {'category': 'COMEDY', 'headline': \"Stephen Colbert Reviews 'America Again' By Stephen Colbert\", 'authors': '', 'link': 'https://www.huffingtonpost.com/entry/stephen-colbert-reviews-america-again_us_5bad092ee4b04234e8560d5d', 'short_description': 'I believe it was Tolstoy who once said, \"First Stephen Colbert wrote a book. Then he wrote a second book. Now a third? Is', 'date': '2012-09-30T00:00:00'}}, {'_index': 'news_category_detection', '_id': 'n8VGkoEBE8fvlEs2xJcg', '_score': 16.75285, '_source': {'category': 'SPORTS', 'headline': 'Cam Newton Used The Most Carolinian Metaphor To Describe His Season', 'authors': 'Juliet Spies-Gans', 'link': 'https://www.huffingtonpost.com/entry/cam-newton-collard-greens_us_56a62febe4b0404eb8f2262b', 'short_description': '\"It wasn’t going to be instant grits,\" he said. \"It was going to be a process, like long-cooked collard greens.\"', 'date': '2016-01-25T00:00:00'}}, {'_index': 'news_category_detection', '_id': 'MsVGkoEBE8fvlEs2x6RA', '_score': 16.75285, '_source': {'category': 'SPORTS', 'headline': 'Wonder How This Guy Feels About This Cam Newton Article Now (Updated)', 'authors': 'Erick Fernandez', 'link': 'https://www.huffingtonpost.com/entry/cam-newton-hot-take-article_us_567474d8e4b014efe0d584a1', 'short_description': 'This might be the king of hot takes.', 'date': '2015-12-18T00:00:00'}}, {'_index': 'news_category_detection', '_id': 'C8VGkoEBE8fvlEs2w5JD', '_score': 16.75285, '_source': {'category': 'COMEDY', 'headline': 'Conan Is The Super Bowl MVP With This Cam Newton Parody', 'authors': 'Bill Bradley', 'link': 'https://www.huffingtonpost.com/entry/conan-obrien-parodies-cam-newton_us_56b9ee1be4b08069c7a8b609', 'short_description': 'Pressers can be rough.', 'date': '2016-02-09T00:00:00'}}, {'_index': 'news_category_detection', '_id': '48VGkoEBE8fvlEs2w5JD', '_score': 16.75285, '_source': {'category': 'SPORTS', 'headline': 'Panthers Quarterback Cam Newton Wins NFL MVP', 'authors': 'Erick Fernandez', 'link': 'https://www.huffingtonpost.com/entry/cam-newton-nfl-mvp-2015-carolina-panthers_us_56b42580e4b08069c7a6c4b2', 'short_description': 'Did you expect anything else?', 'date': '2016-02-07T00:00:00'}}, {'_index': 'news_category_detection', '_id': 'VcRGkoEBE8fvlEs2esV1', '_score': 16.483732, '_source': {'category': 'BLACK VOICES', 'headline': \"Cam Newton Apologizes For 'Degrading' Insult To Female Reporter\", 'authors': '', 'link': 'https://www.huffingtonpost.com/entry/cam-newton-apologizes-for-degrading-insult-to-female-reporter_us_59d78f89e4b0f6eed34fd1b0', 'short_description': '\"My word choice was ... disrespectful to women,\" the quarterback said.', 'date': '2017-10-06T00:00:00'}}]}})"
      ]
     },
     "execution_count": 317,
     "metadata": {},
     "output_type": "execute_result"
    }
   ],
   "source": [
    "like= {\n",
    "         '_index': INDEX_NAME,\n",
    "         '_id': 'qsRGkoEBE8fvlEs2esV1'\n",
    "            }\n",
    "    \n",
    "query = {\n",
    "        'more_like_this': {\n",
    "            'fields': [\"headline\", \"short_description\"],\n",
    "            'like':like,\n",
    "            'min_term_freq': 1,\n",
    "            'minimum_should_match': -100,\n",
    "            'max_query_terms': 12,\n",
    "        }\n",
    "    }\n",
    "resp = client.search(index=INDEX_NAME, query=query, size=10)\n",
    "    #print(resp['hits'])\n",
    "resp"
   ]
  },
  {
   "cell_type": "code",
   "execution_count": 319,
   "id": "79b8f24b",
   "metadata": {},
   "outputs": [
    {
     "data": {
      "text/plain": [
       "[{'_index': 'news_category_detection',\n",
       "  '_id': 'C8VGkoEBE8fvlEs2rU3T',\n",
       "  '_score': 19.954424,\n",
       "  '_source': {'category': 'COMEDY',\n",
       "   'headline': 'Martin Shkreli Will Need Ointment After This Sick Burn From Colbert',\n",
       "   'authors': 'Andy McDonald',\n",
       "   'link': 'https://www.huffingtonpost.com/entry/martin-shkreli-will-need-ointment-after-this-sick-burn-from-colbert_us_57c452d5e4b09cd22d9179d6',\n",
       "   'short_description': \"Hopefully no one's inflated the price of ointment for you, Martin.\",\n",
       "   'date': '2016-08-29T00:00:00'}},\n",
       " {'_index': 'news_category_detection',\n",
       "  '_id': 'a8VGkoEBE8fvlEs2nha6',\n",
       "  '_score': 18.226522,\n",
       "  '_source': {'category': 'COMEDY',\n",
       "   'headline': 'Stephen Colbert Is Sick Of Donald Trump Stealing His Act',\n",
       "   'authors': 'Lee Moran',\n",
       "   'link': 'https://www.huffingtonpost.com/entry/stephen-colbert-trump-on-notice_us_58945dace4b0406131364338',\n",
       "   'short_description': 'He claims the president keeps ripping off his ideas.',\n",
       "   'date': '2017-02-03T00:00:00'}},\n",
       " {'_index': 'news_category_detection',\n",
       "  '_id': 'HsVGkoEBE8fvlEs2tWmB',\n",
       "  '_score': 17.836643,\n",
       "  '_source': {'category': 'SPORTS',\n",
       "   'headline': \"Cam Newton Officially Declares 'The Dab' Dead\",\n",
       "   'authors': 'Justin Block',\n",
       "   'link': 'https://www.huffingtonpost.com/entry/cam-newton-officially-declares-the-dab-dead_us_57598b95e4b0ced23ca72ea1',\n",
       "   'short_description': 'R.I.P.',\n",
       "   'date': '2016-06-09T00:00:00'}},\n",
       " {'_index': 'news_category_detection',\n",
       "  '_id': 'j8RGkoEBE8fvlEs2f8me',\n",
       "  '_score': 17.340557,\n",
       "  '_source': {'category': 'COMEDY',\n",
       "   'headline': \"Stephen Colbert To North Korea: 'Knock It Off' With The Sick Trump Burns\",\n",
       "   'authors': 'Lee Moran',\n",
       "   'link': 'https://www.huffingtonpost.com/entry/stephen-colbert-kim-jong-un-donald-trump_us_59c61adce4b0cdc773318995',\n",
       "   'short_description': '\"I’m not gonna stand here as an American and let somebody from another country talk smack about our president.\"',\n",
       "   'date': '2017-09-23T00:00:00'}},\n",
       " {'_index': 'news_category_detection',\n",
       "  '_id': '_MdHkoEBE8fvlEs2OUN6',\n",
       "  '_score': 17.004688,\n",
       "  '_source': {'category': 'COMEDY',\n",
       "   'headline': \"Stephen Colbert Reviews 'America Again' By Stephen Colbert\",\n",
       "   'authors': '',\n",
       "   'link': 'https://www.huffingtonpost.com/entry/stephen-colbert-reviews-america-again_us_5bad092ee4b04234e8560d5d',\n",
       "   'short_description': 'I believe it was Tolstoy who once said, \"First Stephen Colbert wrote a book. Then he wrote a second book. Now a third? Is',\n",
       "   'date': '2012-09-30T00:00:00'}},\n",
       " {'_index': 'news_category_detection',\n",
       "  '_id': 'n8VGkoEBE8fvlEs2xJcg',\n",
       "  '_score': 16.75285,\n",
       "  '_source': {'category': 'SPORTS',\n",
       "   'headline': 'Cam Newton Used The Most Carolinian Metaphor To Describe His Season',\n",
       "   'authors': 'Juliet Spies-Gans',\n",
       "   'link': 'https://www.huffingtonpost.com/entry/cam-newton-collard-greens_us_56a62febe4b0404eb8f2262b',\n",
       "   'short_description': '\"It wasn’t going to be instant grits,\" he said. \"It was going to be a process, like long-cooked collard greens.\"',\n",
       "   'date': '2016-01-25T00:00:00'}},\n",
       " {'_index': 'news_category_detection',\n",
       "  '_id': 'MsVGkoEBE8fvlEs2x6RA',\n",
       "  '_score': 16.75285,\n",
       "  '_source': {'category': 'SPORTS',\n",
       "   'headline': 'Wonder How This Guy Feels About This Cam Newton Article Now (Updated)',\n",
       "   'authors': 'Erick Fernandez',\n",
       "   'link': 'https://www.huffingtonpost.com/entry/cam-newton-hot-take-article_us_567474d8e4b014efe0d584a1',\n",
       "   'short_description': 'This might be the king of hot takes.',\n",
       "   'date': '2015-12-18T00:00:00'}},\n",
       " {'_index': 'news_category_detection',\n",
       "  '_id': 'C8VGkoEBE8fvlEs2w5JD',\n",
       "  '_score': 16.75285,\n",
       "  '_source': {'category': 'COMEDY',\n",
       "   'headline': 'Conan Is The Super Bowl MVP With This Cam Newton Parody',\n",
       "   'authors': 'Bill Bradley',\n",
       "   'link': 'https://www.huffingtonpost.com/entry/conan-obrien-parodies-cam-newton_us_56b9ee1be4b08069c7a8b609',\n",
       "   'short_description': 'Pressers can be rough.',\n",
       "   'date': '2016-02-09T00:00:00'}},\n",
       " {'_index': 'news_category_detection',\n",
       "  '_id': '48VGkoEBE8fvlEs2w5JD',\n",
       "  '_score': 16.75285,\n",
       "  '_source': {'category': 'SPORTS',\n",
       "   'headline': 'Panthers Quarterback Cam Newton Wins NFL MVP',\n",
       "   'authors': 'Erick Fernandez',\n",
       "   'link': 'https://www.huffingtonpost.com/entry/cam-newton-nfl-mvp-2015-carolina-panthers_us_56b42580e4b08069c7a6c4b2',\n",
       "   'short_description': 'Did you expect anything else?',\n",
       "   'date': '2016-02-07T00:00:00'}},\n",
       " {'_index': 'news_category_detection',\n",
       "  '_id': 'VcRGkoEBE8fvlEs2esV1',\n",
       "  '_score': 16.483732,\n",
       "  '_source': {'category': 'BLACK VOICES',\n",
       "   'headline': \"Cam Newton Apologizes For 'Degrading' Insult To Female Reporter\",\n",
       "   'authors': '',\n",
       "   'link': 'https://www.huffingtonpost.com/entry/cam-newton-apologizes-for-degrading-insult-to-female-reporter_us_59d78f89e4b0f6eed34fd1b0',\n",
       "   'short_description': '\"My word choice was ... disrespectful to women,\" the quarterback said.',\n",
       "   'date': '2017-10-06T00:00:00'}}]"
      ]
     },
     "execution_count": 319,
     "metadata": {},
     "output_type": "execute_result"
    }
   ],
   "source": [
    "resp['hits']['hits']"
   ]
  },
  {
   "cell_type": "code",
   "execution_count": null,
   "id": "92e09aea",
   "metadata": {},
   "outputs": [],
   "source": [
    "def busca_outros_parametros(doc, size=10):\n",
    "    like= [doc['headline'], doc['short_description']] \n",
    "    query = {\n",
    "            'more_like_this': {\n",
    "            'fields': [\"headline^2\", \"short_description\"],\n",
    "            'like':like,\n",
    "            'min_term_freq': 1,\n",
    "            'max_query_terms': 12,\n",
    "        }\n",
    "        }\n",
    "    resp = client.search(index=INDEX_NAME, query=query, size=size)\n",
    "    if(resp['hits']['total']['value']>0):\n",
    "        print(resp['hits']['total']['value'])\n",
    "        return ajusta_retorno(resp)\n",
    "    else:\n",
    "        return outra_busca(doc)\n"
   ]
  },
  {
   "cell_type": "code",
   "execution_count": null,
   "id": "b7651d0d",
   "metadata": {},
   "outputs": [],
   "source": []
  },
  {
   "cell_type": "code",
   "execution_count": null,
   "id": "6476994d",
   "metadata": {},
   "outputs": [],
   "source": []
  },
  {
   "cell_type": "code",
   "execution_count": 329,
   "id": "63a06d56",
   "metadata": {},
   "outputs": [
    {
     "data": {
      "text/html": [
       "<div>\n",
       "<style scoped>\n",
       "    .dataframe tbody tr th:only-of-type {\n",
       "        vertical-align: middle;\n",
       "    }\n",
       "\n",
       "    .dataframe tbody tr th {\n",
       "        vertical-align: top;\n",
       "    }\n",
       "\n",
       "    .dataframe thead th {\n",
       "        text-align: right;\n",
       "    }\n",
       "</style>\n",
       "<table border=\"1\" class=\"dataframe\">\n",
       "  <thead>\n",
       "    <tr style=\"text-align: right;\">\n",
       "      <th></th>\n",
       "      <th>_id</th>\n",
       "      <th>category</th>\n",
       "      <th>headline</th>\n",
       "      <th>authors</th>\n",
       "      <th>link</th>\n",
       "      <th>short_description</th>\n",
       "      <th>date</th>\n",
       "    </tr>\n",
       "  </thead>\n",
       "  <tbody>\n",
       "    <tr>\n",
       "      <th>0</th>\n",
       "      <td>JMRGkoEBE8fvlEs2esV1</td>\n",
       "      <td>WORLD NEWS</td>\n",
       "      <td>The Transformation Of Jerusalem</td>\n",
       "      <td>James Zogby, ContributorPresident, Arab Americ...</td>\n",
       "      <td>https://www.huffingtonpost.com/entry/the-trans...</td>\n",
       "      <td>The Israeli construct—“Greater Jerusalem”—is a...</td>\n",
       "      <td>2017-10-07T00:00:00</td>\n",
       "    </tr>\n",
       "    <tr>\n",
       "      <th>1</th>\n",
       "      <td>JcRGkoEBE8fvlEs2esV1</td>\n",
       "      <td>WORLD NEWS</td>\n",
       "      <td>North Korea Really Isn’t China’s Fault, Though...</td>\n",
       "      <td>Doug Bandow, ContributorContributing writer, p...</td>\n",
       "      <td>https://www.huffingtonpost.com/entry/north-kor...</td>\n",
       "      <td>Chinese officials bemoan their lack of influen...</td>\n",
       "      <td>2017-10-07T00:00:00</td>\n",
       "    </tr>\n",
       "    <tr>\n",
       "      <th>2</th>\n",
       "      <td>KsRGkoEBE8fvlEs2esV1</td>\n",
       "      <td>POLITICS</td>\n",
       "      <td>Gunfight At The Second Amendment Corral</td>\n",
       "      <td>David Schultz, ContributorProfessor of Politic...</td>\n",
       "      <td>https://www.huffingtonpost.com/entry/gunfight-...</td>\n",
       "      <td>Like it or not the Second Amendment exists and...</td>\n",
       "      <td>2017-10-07T00:00:00</td>\n",
       "    </tr>\n",
       "    <tr>\n",
       "      <th>3</th>\n",
       "      <td>LMRGkoEBE8fvlEs2esV1</td>\n",
       "      <td>ENTERTAINMENT</td>\n",
       "      <td>BTS Earns Highest Ever Spot On Billboard Hot 1...</td>\n",
       "      <td>Doha Madani</td>\n",
       "      <td>https://www.huffingtonpost.com/entry/bts-billb...</td>\n",
       "      <td>BTS already made history by being the first K-...</td>\n",
       "      <td>2017-10-07T00:00:00</td>\n",
       "    </tr>\n",
       "    <tr>\n",
       "      <th>4</th>\n",
       "      <td>LsRGkoEBE8fvlEs2esV1</td>\n",
       "      <td>POLITICS</td>\n",
       "      <td>Bill Maher: I'm So Sick Of 'Thoughts And Praye...</td>\n",
       "      <td>Lee Moran</td>\n",
       "      <td>https://www.huffingtonpost.com/entry/bill-mahe...</td>\n",
       "      <td>\"Thoughts and prayers are the Republican way o...</td>\n",
       "      <td>2017-10-07T00:00:00</td>\n",
       "    </tr>\n",
       "  </tbody>\n",
       "</table>\n",
       "</div>"
      ],
      "text/plain": [
       "                    _id       category  \\\n",
       "0  JMRGkoEBE8fvlEs2esV1     WORLD NEWS   \n",
       "1  JcRGkoEBE8fvlEs2esV1     WORLD NEWS   \n",
       "2  KsRGkoEBE8fvlEs2esV1       POLITICS   \n",
       "3  LMRGkoEBE8fvlEs2esV1  ENTERTAINMENT   \n",
       "4  LsRGkoEBE8fvlEs2esV1       POLITICS   \n",
       "\n",
       "                                            headline  \\\n",
       "0                    The Transformation Of Jerusalem   \n",
       "1  North Korea Really Isn’t China’s Fault, Though...   \n",
       "2            Gunfight At The Second Amendment Corral   \n",
       "3  BTS Earns Highest Ever Spot On Billboard Hot 1...   \n",
       "4  Bill Maher: I'm So Sick Of 'Thoughts And Praye...   \n",
       "\n",
       "                                             authors  \\\n",
       "0  James Zogby, ContributorPresident, Arab Americ...   \n",
       "1  Doug Bandow, ContributorContributing writer, p...   \n",
       "2  David Schultz, ContributorProfessor of Politic...   \n",
       "3                                        Doha Madani   \n",
       "4                                          Lee Moran   \n",
       "\n",
       "                                                link  \\\n",
       "0  https://www.huffingtonpost.com/entry/the-trans...   \n",
       "1  https://www.huffingtonpost.com/entry/north-kor...   \n",
       "2  https://www.huffingtonpost.com/entry/gunfight-...   \n",
       "3  https://www.huffingtonpost.com/entry/bts-billb...   \n",
       "4  https://www.huffingtonpost.com/entry/bill-mahe...   \n",
       "\n",
       "                                   short_description                 date  \n",
       "0  The Israeli construct—“Greater Jerusalem”—is a...  2017-10-07T00:00:00  \n",
       "1  Chinese officials bemoan their lack of influen...  2017-10-07T00:00:00  \n",
       "2  Like it or not the Second Amendment exists and...  2017-10-07T00:00:00  \n",
       "3  BTS already made history by being the first K-...  2017-10-07T00:00:00  \n",
       "4  \"Thoughts and prayers are the Republican way o...  2017-10-07T00:00:00  "
      ]
     },
     "execution_count": 329,
     "metadata": {},
     "output_type": "execute_result"
    }
   ],
   "source": [
    "test_docs_resp = client.search(index=INDEX_NAME, size=5)\n",
    "test_docs = pd.DataFrame(\n",
    "        {\n",
    "            '_id': x['_id'],\n",
    "            **x['_source']\n",
    "        } for x in test_docs_resp['hits']['hits']\n",
    "    )\n",
    "test_docs"
   ]
  },
  {
   "cell_type": "code",
   "execution_count": 338,
   "id": "738990c2",
   "metadata": {},
   "outputs": [
    {
     "data": {
      "text/html": [
       "<div>\n",
       "<style scoped>\n",
       "    .dataframe tbody tr th:only-of-type {\n",
       "        vertical-align: middle;\n",
       "    }\n",
       "\n",
       "    .dataframe tbody tr th {\n",
       "        vertical-align: top;\n",
       "    }\n",
       "\n",
       "    .dataframe thead th {\n",
       "        text-align: right;\n",
       "    }\n",
       "</style>\n",
       "<table border=\"1\" class=\"dataframe\">\n",
       "  <thead>\n",
       "    <tr style=\"text-align: right;\">\n",
       "      <th></th>\n",
       "      <th>_score</th>\n",
       "    </tr>\n",
       "    <tr>\n",
       "      <th>category</th>\n",
       "      <th></th>\n",
       "    </tr>\n",
       "  </thead>\n",
       "  <tbody>\n",
       "    <tr>\n",
       "      <th>THE WORLDPOST</th>\n",
       "      <td>52.449592</td>\n",
       "    </tr>\n",
       "    <tr>\n",
       "      <th>RELIGION</th>\n",
       "      <td>28.399612</td>\n",
       "    </tr>\n",
       "    <tr>\n",
       "      <th>WORLDPOST</th>\n",
       "      <td>27.815998</td>\n",
       "    </tr>\n",
       "    <tr>\n",
       "      <th>WORLD NEWS</th>\n",
       "      <td>16.645844</td>\n",
       "    </tr>\n",
       "    <tr>\n",
       "      <th>IMPACT</th>\n",
       "      <td>10.742830</td>\n",
       "    </tr>\n",
       "  </tbody>\n",
       "</table>\n",
       "</div>"
      ],
      "text/plain": [
       "                  _score\n",
       "category                \n",
       "THE WORLDPOST  52.449592\n",
       "RELIGION       28.399612\n",
       "WORLDPOST      27.815998\n",
       "WORLD NEWS     16.645844\n",
       "IMPACT         10.742830"
      ]
     },
     "execution_count": 338,
     "metadata": {},
     "output_type": "execute_result"
    }
   ],
   "source": [
    "QUERY = {\n",
    "    'more_like_this': {\n",
    "        'fields': ['headline^2', 'short_description'],\n",
    "        'like': [\n",
    "            {\n",
    "                '_index': INDEX_NAME,\n",
    "                '_id': test_docs['_id'].iloc[0],\n",
    "            }\n",
    "        ],\n",
    "        'min_term_freq': 1,\n",
    "        'max_query_terms': 12,\n",
    "    }\n",
    "}\n",
    "resp = client.search(index=INDEX_NAME, query=QUERY, size=10)\n",
    "resp_df = pd.DataFrame({'_id': x['_id'], '_score': x['_score'], **x['_source']} for x in resp['hits']['hits'])\n",
    "resp_df.groupby('category').sum().sort_values('_score', ascending=False)"
   ]
  },
  {
   "cell_type": "code",
   "execution_count": 342,
   "id": "e517dfaa",
   "metadata": {},
   "outputs": [
    {
     "data": {
      "text/plain": [
       "sport            511\n",
       "business         510\n",
       "politics         417\n",
       "tech             401\n",
       "entertainment    386\n",
       "Name: category, dtype: int64"
      ]
     },
     "execution_count": 342,
     "metadata": {},
     "output_type": "execute_result"
    }
   ],
   "source": [
    "import pandas as pd\n",
    "df_data = pd.read_csv('../Data/archive6/bbc-news-data.csv', sep='\\t')\n",
    "df_data['category'].value_counts()"
   ]
  },
  {
   "cell_type": "code",
   "execution_count": 343,
   "id": "a1914d96",
   "metadata": {},
   "outputs": [
    {
     "data": {
      "text/plain": [
       "Index(['category', 'filename', 'title', 'content'], dtype='object')"
      ]
     },
     "execution_count": 343,
     "metadata": {},
     "output_type": "execute_result"
    }
   ],
   "source": [
    "df_data.keys()"
   ]
  },
  {
   "cell_type": "code",
   "execution_count": 344,
   "id": "54a4d521",
   "metadata": {},
   "outputs": [
    {
     "data": {
      "text/plain": [
       "'Ad sales boost Time Warner profit'"
      ]
     },
     "execution_count": 344,
     "metadata": {},
     "output_type": "execute_result"
    }
   ],
   "source": [
    "df_data['title'].iloc[0]"
   ]
  },
  {
   "cell_type": "code",
   "execution_count": 345,
   "id": "d5e89324",
   "metadata": {},
   "outputs": [
    {
     "data": {
      "text/plain": [
       "' Quarterly profits at US media giant TimeWarner jumped 76% to $1.13bn (£600m) for the three months to December, from $639m year-earlier.  The firm, which is now one of the biggest investors in Google, benefited from sales of high-speed internet connections and higher advert sales. TimeWarner said fourth quarter sales rose 2% to $11.1bn from $10.9bn. Its profits were buoyed by one-off gains which offset a profit dip at Warner Bros, and less users for AOL.  Time Warner said on Friday that it now owns 8% of search-engine Google. But its own internet business, AOL, had has mixed fortunes. It lost 464,000 subscribers in the fourth quarter profits were lower than in the preceding three quarters. However, the company said AOL\\'s underlying profit before exceptional items rose 8% on the back of stronger internet advertising revenues. It hopes to increase subscribers by offering the online service free to TimeWarner internet customers and will try to sign up AOL\\'s existing customers for high-speed broadband. TimeWarner also has to restate 2000 and 2003 results following a probe by the US Securities Exchange Commission (SEC), which is close to concluding.  Time Warner\\'s fourth quarter profits were slightly better than analysts\\' expectations. But its film division saw profits slump 27% to $284m, helped by box-office flops Alexander and Catwoman, a sharp contrast to year-earlier, when the third and final film in the Lord of the Rings trilogy boosted results. For the full-year, TimeWarner posted a profit of $3.36bn, up 27% from its 2003 performance, while revenues grew 6.4% to $42.09bn. \"Our financial performance was strong, meeting or exceeding all of our full-year objectives and greatly enhancing our flexibility,\" chairman and chief executive Richard Parsons said. For 2005, TimeWarner is projecting operating earnings growth of around 5%, and also expects higher revenue and wider profit margins.  TimeWarner is to restate its accounts as part of efforts to resolve an inquiry into AOL by US market regulators. It has already offered to pay $300m to settle charges, in a deal that is under review by the SEC. The company said it was unable to estimate the amount it needed to set aside for legal reserves, which it previously set at $500m. It intends to adjust the way it accounts for a deal with German music publisher Bertelsmann\\'s purchase of a stake in AOL Europe, which it had reported as advertising revenue. It will now book the sale of its stake in AOL Europe as a loss on the value of that stake. '"
      ]
     },
     "execution_count": 345,
     "metadata": {},
     "output_type": "execute_result"
    }
   ],
   "source": [
    "df_data['content'].iloc[0]"
   ]
  },
  {
   "cell_type": "code",
   "execution_count": null,
   "id": "7bc3c014",
   "metadata": {},
   "outputs": [],
   "source": []
  }
 ],
 "metadata": {
  "kernelspec": {
   "display_name": "Python 3 (ipykernel)",
   "language": "python",
   "name": "python3"
  },
  "language_info": {
   "codemirror_mode": {
    "name": "ipython",
    "version": 3
   },
   "file_extension": ".py",
   "mimetype": "text/x-python",
   "name": "python",
   "nbconvert_exporter": "python",
   "pygments_lexer": "ipython3",
   "version": "3.9.7"
  }
 },
 "nbformat": 4,
 "nbformat_minor": 5
}
